{
  "nbformat": 4,
  "nbformat_minor": 0,
  "metadata": {
    "colab": {
      "name": "Bayes_senal_ruidosa.ipynb",
      "provenance": [],
      "collapsed_sections": [],
      "include_colab_link": true
    },
    "kernelspec": {
      "name": "python3",
      "display_name": "Python 3"
    },
    "language_info": {
      "name": "python"
    }
  },
  "cells": [
    {
      "cell_type": "markdown",
      "metadata": {
        "id": "view-in-github",
        "colab_type": "text"
      },
      "source": [
        "<a href=\"https://colab.research.google.com/github/COFAlumni-USB/Physics-REBoot-Applied-Science-Bootcamp/blob/main/Hands%20On/Dia%205/Bayes_senal_ruidosa.ipynb\" target=\"_parent\"><img src=\"https://colab.research.google.com/assets/colab-badge.svg\" alt=\"Open In Colab\"/></a>"
      ]
    },
    {
      "cell_type": "markdown",
      "metadata": {
        "id": "IO7z-iVP7gHT"
      },
      "source": [
        "<p align=\"center\">\n",
        "<img src='https://static.wixstatic.com/media/42c521_9ece3ec976e541fdb6ff48e2774e6586~mv2.png/v1/fill/w_735,h_284,al_c,q_85,usm_0.66_1.00_0.01/20210615_cofalumni_bootcamp1.webp' width=\"800\" />\n",
        "</p>\n",
        "\n",
        "\n",
        "## Physics Research and Education Bootcamp - Computational | Episode 1\n",
        "\n",
        "**Created**: Jun.21, 2021\n",
        "\n",
        "**Last Modification**: Jun.21, 2021\n",
        "\n",
        "**License**: http://www.apache.org/licenses/LICENSE-2.0"
      ]
    },
    {
      "cell_type": "markdown",
      "metadata": {
        "id": "nPakPXsa5ppY"
      },
      "source": [
        "# Preámbulo\n",
        "\n",
        "Primero veamos que debemos cargar los paquetes de Python necesarios para trabajar."
      ]
    },
    {
      "cell_type": "code",
      "metadata": {
        "id": "4Cc9-qKLS5TN"
      },
      "source": [
        "import numpy as np # importa la libreria de numpy\n",
        "import matplotlib.pyplot as plt # importa la libreria de matplotlib\n",
        "np.random.seed(1337) # establece un semilla para generacion aleatoria de numeros\n"
      ],
      "execution_count": null,
      "outputs": []
    },
    {
      "cell_type": "markdown",
      "metadata": {
        "id": "_GEe-nUOSyzP"
      },
      "source": [
        "# ***Reconstruccion de parametros usando Análisis Bayesiano***\n",
        "\\\\\n",
        "En esta ocasión, usaremos los conocimientos que hemos adquirido sobre análisis bayesiano para reconstruir los parámetros de una señal sinusoidal producida por un generador de funciones, la cual lamentablemente funciona de manera intermitente introduciendo ruido en la señal, que genera a su vez incertidumbre acerca de la frecuencia de la misma.\n",
        "\n",
        "Para nuestro modelo, asumiremos que el ruido en la señal sigue una distribución \"Normal\", denotada por $\\mathcal{N}$. El modelo en cuestión se puede escribir matemáticamente de la siguiente manera:\n",
        "\n",
        "\\begin{align}\n",
        "y(x,\\omega,\\epsilon) &= A*sin(\\omega\\,x) + \\epsilon .\\\\\n",
        "\\end{align}\n",
        "\n",
        "Donde $\\epsilon = \\mathcal{N}(\\mu,\\sigma^{2})$ es el error introducido a la señal siguiendo nuestra distribución, $\\omega$ es la frecuencia de la señal, $A$ es la amplitud de la señal, $\\mu$ el nivel de ruido y $\\sigma^{2}$ la desviación estándar de ese ruido.\n",
        "\n",
        "\n"
      ]
    },
    {
      "cell_type": "code",
      "metadata": {
        "id": "Dfj67Upy5lzi"
      },
      "source": [
        "def modelo(x,frec,err):\n",
        "  '''\n",
        "   Definimos el modelo.\n",
        "\n",
        "  Parametros\n",
        "  x (lista o array):\n",
        "  frec (flotante):\n",
        "  err (flotante):\n",
        "\n",
        "  Resultado\n",
        "  Ecuacion (2) (flotante)\n",
        "\n",
        "\n",
        "  '''\n",
        "  # Definimos el modelo\n",
        "  return np.sin(frec*x) + err"
      ],
      "execution_count": null,
      "outputs": []
    },
    {
      "cell_type": "markdown",
      "metadata": {
        "id": "oz-QmnPhgmVp"
      },
      "source": [
        "Para este caso, no es factible reparar el generador ya que es necesario usarlo a muy corto plazo para algunos experimentos y no tenemos un generador de reemplazo. Nuestra mejor opción es aplicar las herramientas que hemos aprendido y estimar la frecuencia y el nivel del ruido en la señal, y de esa manera corregir luego los resultados que obtengamos en los experimentos para los cuales usemos este generador."
      ]
    },
    {
      "cell_type": "markdown",
      "metadata": {
        "id": "rtDqnk1cfdEI"
      },
      "source": [
        "Como siempre empezamos la implementacion computacional definiendo las librerias que usaremos"
      ]
    },
    {
      "cell_type": "markdown",
      "metadata": {
        "id": "-P64_7ZJS-a1"
      },
      "source": [
        "Para empezar, simulamos un experimento en el cual algunos tomamos algunas mediciones del output del generador:"
      ]
    },
    {
      "cell_type": "code",
      "metadata": {
        "id": "6ATHTxXAS848",
        "colab": {
          "base_uri": "https://localhost:8080/",
          "height": 541
        },
        "outputId": "2fe6be86-8708-4e1c-88db-0448f2904ff7"
      },
      "source": [
        "# definamos algunas variasbles generales para nuestra solucion\n",
        "N_muestras = 5 # numero de muestras\n",
        "Frecuencia = 3 # valor de frecuencia\n",
        "Amplitud = 1 #valor de amplitud\n",
        "\n",
        "# construyamos nuestra senal\n",
        "x = np.random.random(N_muestras)*2*np.pi # genera N_muestras de numeros aleatorios con probabilidad uniforme con un factor de 2pi\n",
        "error = np.random.normal(2,scale=0.1,size=N_muestras) # genera N_muestras de numeros aleatorios siguiendo una probabilidad generada por una distribucion normal centrada en 2\n",
        "y = Amplitud*np.sin(Frecuencia * x) + error # valor de la senal con valor del error incluido\n",
        "\n",
        "# Observamos la señal y la distribucion de los errores\n",
        "plt.figure() # genera una figura donde colocaremos nuestro grafico\n",
        "plt.scatter(x,y) # crea un grafico con los valores de coordenadas X,Y del valor de la senal\n",
        "plt.grid(True) # activa el grid de escala en grafico de python\n",
        "plt.xlabel('Dominio de la señal')\n",
        "plt.ylabel('Valor de la amplitud')\n",
        "\n",
        "plt.figure() # genera la figura donde colocaremos nuestros graficos\n",
        "plt.hist(error) # genera los histogramas de los valores de las senales\n",
        "plt.xlabel('Amplitud')\n",
        "plt.ylabel('Eventos')\n",
        "plt.grid(True) # activa grid de escala en el grafico de python"
      ],
      "execution_count": null,
      "outputs": [
        {
          "output_type": "display_data",
          "data": {
            "image/png": "[encoded data removed]",
            "text/plain": [
              "<Figure size 432x288 with 1 Axes>"
            ]
          },
          "metadata": {
            "tags": [],
            "needs_background": "light"
          }
        },
        {
          "output_type": "display_data",
          "data": {
            "image/png": "[encoded data removed]",
            "text/plain": [
              "<Figure size 432x288 with 1 Axes>"
            ]
          },
          "metadata": {
            "tags": [],
            "needs_background": "light"
          }
        }
      ]
    },
    {
      "cell_type": "markdown",
      "metadata": {
        "id": "46p3LJ5p6co_"
      },
      "source": [
        "Existen muchas maneras de atacar este problema. Afortunadamente, a través de aplicar el teorema de Bayes [<a href=\"https://es.wikipedia.org/wiki/Teorema_de_Bayes\">1</a>], podemos determinar los parametros de nuestro modelo de señal. \n",
        "\n",
        "Explícitamente, la solución de este problema es la *densidad de probabilidad posterior* $p(\\omega,\\epsilon|y)$, la cual evaluaremos a partir de probabilidades de densidad a priori que definiremos sobre los parámetros del modelo. En otras palabras esto se representa por la siguiente relación matemática:\n",
        "\n",
        "\\begin{equation}\n",
        "p(\\omega,\\epsilon|y) \\propto p(y|\\omega,\\epsilon) * p(\\omega,\\epsilon).\\tag{1}\n",
        "\\end{equation}\n",
        "\n",
        "De este modo, usaremos una distribución normal para describir la *verosimilitud* $p(y|\\omega,\\epsilon)$:\n",
        "\n",
        "\\begin{equation}\n",
        "p(y|\\omega,\\epsilon) = \\prod_{i}^{N_{\\text{obs}}} \\text{exp}\\left(-\\frac{[y_{\\text{obs}}(x_i) - y(x_{i},\\omega,\\epsilon)]^{2}}{2\\gamma^{2}}\n",
        "\\right).\\tag{2}\n",
        "\\end{equation}\n",
        "Donde $\\gamma$ es un parámetro que fijaremos y que se encarga de modular el rango de distancias entre las mediciones y el muestreo que consideraremos viable para el análisis, tipicamente toma un valor entre $(0,1]$."
      ]
    },
    {
      "cell_type": "markdown",
      "metadata": {
        "id": "8GOI2kHpTuPl"
      },
      "source": [
        "Definimos entonces la función en Python de la *verosimilitud* dada por la ecuación (2):"
      ]
    },
    {
      "cell_type": "code",
      "metadata": {
        "id": "P2vdlgQi3YfG"
      },
      "source": [
        "def verosimilitud(x,m,des_estandar):\n",
        "  '''\n",
        "  Describimos la función de verosimilitud, la cual corresponde a una distribución Normal.\n",
        "\n",
        "  Parametros\n",
        "  x (lista o array):\n",
        "  m (flotante):\n",
        "  des_estandar (flotante):\n",
        "\n",
        "  Resultado\n",
        "  Ecuacion (2) (flotante)\n",
        "\n",
        "\n",
        "  '''\n",
        "  ver = np.exp(-(x-m)**2/(2*(des_estandar**2)))\n",
        "  return np.prod(ver)\n"
      ],
      "execution_count": null,
      "outputs": []
    },
    {
      "cell_type": "code",
      "metadata": {
        "id": "KtaUPj_DT0_d"
      },
      "source": [
        "def Probabilidad_posterior(x,y,d_estandard,muestras):\n",
        "    # Generamos un muestreo simulando funciones de probabilidad uniformes en el intervalo [0,5]\n",
        "    # para la Frecuencia y el Error de la señal\n",
        "    Prior_frec = np.linspace(0,5,muestras) #np.random.random(muestras)*5\n",
        "    Prior_err = np.linspace(0,5,muestras) #np.random.random(muestras)*0.01\n",
        "    Frec, Err = np.meshgrid(Prior_frec,Prior_err)\n",
        "    # Calculamos la probabilidad a posteriori\n",
        "    Posterior = np.zeros((muestras,muestras))\n",
        "    for i in range(muestras):\n",
        "      for j in range(muestras):\n",
        "        Posterior[i][j] = verosimilitud(modelo(x,Frec[i][j],Err[i][j]),y,d_estandard)\n",
        "    return Posterior,Frec,Err\n",
        "\n",
        "def Marginalizar_y_plotear_posterior(Posterior,Frec,Err):\n",
        "  # Marginalizamos la distribución Posterior conjunta para cada una de las variables,\n",
        "  # esto lo hacemos integrando (sumando sobre las variables alternas a la variable\n",
        "  # de interés)\n",
        "  Marginal_Frec = np.sum(Posterior,axis=0)*(Err[1][0]-Err[0][0])\n",
        "  Marginal_Error = np.sum(Posterior,axis=1)*(Frec[0][1]-Frec[0][0])\n",
        "  \n",
        "\n",
        "  # graficando los resultados\n",
        "\n",
        "  plt.figure()\n",
        "  plt.suptitle('Distribución Posterior Conjunta',fontweight='bold')\n",
        "  plt.contourf(Frec,Err,Posterior)\n",
        "  plt.xlabel('Frecuencia',fontweight='bold')\n",
        "  plt.ylabel('Error',fontweight='bold')\n",
        "  plt.grid(True)\n",
        "\n",
        "  plt.figure()\n",
        "  plt.suptitle('Distribución Marginal Posterior del Error',fontweight='bold')\n",
        "  plt.plot(Err[:,0],Marginal_Error)\n",
        "  plt.xlabel('Error',fontweight='bold')\n",
        "  plt.ylabel('Probabilidad',fontweight='bold')\n",
        "  plt.grid(True)\n",
        "\n",
        "  plt.figure()\n",
        "  plt.suptitle('Distribución Marginal Posterior de la Frecuencia',fontweight='bold')\n",
        "  plt.plot(Frec[0,:],Marginal_Frec)\n",
        "  plt.xlabel('Frecuencia',fontweight='bold')\n",
        "  plt.ylabel('Probabilidad',fontweight='bold')\n",
        "  plt.grid(True)\n",
        "\n"
      ],
      "execution_count": null,
      "outputs": []
    },
    {
      "cell_type": "markdown",
      "metadata": {
        "id": "0VWSw8VjUzL2"
      },
      "source": [
        "A través del muestreo aleatorio a partir de distribuciones uniformes evaluamos el problema en la celda a continuación."
      ]
    },
    {
      "cell_type": "code",
      "metadata": {
        "id": "9haoZKcZXhW-",
        "colab": {
          "base_uri": "https://localhost:8080/",
          "height": 890
        },
        "outputId": "32d041ca-de95-4d9c-aa80-ded94f0e682f"
      },
      "source": [
        "Muestras = 200 # numero de muestras\n",
        "gamma = 0.5 # parametro de ajuste del modelo\n",
        "P,frec,err = Probabilidad_posterior(x,y,gamma,Muestras)\n",
        "\n",
        "# Graficamos la distribucion de probabilidad conjunta posterior. Las areas de mayor\n",
        "# intensidad de color indican una mayor probabilidad para los parametros del modelo\n",
        "Marginalizar_y_plotear_posterior(P,frec,err)\n"
      ],
      "execution_count": null,
      "outputs": [
        {
          "output_type": "display_data",
          "data": {
            "image/png": "[encoded data removed]",
            "text/plain": [
              "<Figure size 432x288 with 1 Axes>"
            ]
          },
          "metadata": {
            "tags": [],
            "needs_background": "light"
          }
        },
        {
          "output_type": "display_data",
          "data": {
            "image/png": "[encoded data removed]",
            "text/plain": [
              "<Figure size 432x288 with 1 Axes>"
            ]
          },
          "metadata": {
            "tags": [],
            "needs_background": "light"
          }
        },
        {
          "output_type": "display_data",
          "data": {
            "image/png": "[encoded data removed]",
            "text/plain": [
              "<Figure size 432x288 with 1 Axes>"
            ]
          },
          "metadata": {
            "tags": [],
            "needs_background": "light"
          }
        }
      ]
    },
    {
      "cell_type": "markdown",
      "metadata": {
        "id": "FfelniWNbgDf"
      },
      "source": [
        "Ahora que ya hemos visto estos casos sencillos, Comprueba tu código utilizando distintos valores de frecuencia, error y número de muestras como por ejemplo:\n",
        "\n",
        "*   Número de muestras = $3,...,100$\n",
        "*   $\\epsilon = \\mathcal{N}(\\{0,...,3\\},\\{1,...,3\\})$\n",
        "*   $\\omega = \\{\\frac{1}{4},...,10\\}$\n",
        "\n",
        "¡Intenta explicar los resultados!\n",
        "\n",
        "\n",
        "\n"
      ]
    },
    {
      "cell_type": "markdown",
      "metadata": {
        "id": "FgDVI-QAoVcL"
      },
      "source": [
        "<div class=\"alert alert-block alert-info\">\n",
        "\n",
        "**Nota** : \n",
        "    \n",
        "(Una de las principales conclusiones al incluir mas observaciones es justamente el fundamento del análisis bayesiano: a medida que existen más observaciones que proporcionan información suficiente, el estimado a *posteriori* mejora considerablemente el resultado final).*italicized text*\n",
        "\n",
        "</div>"
      ]
    },
    {
      "cell_type": "markdown",
      "metadata": {
        "id": "B_VUDbD57Knn"
      },
      "source": [
        "Versión: **1.0** Antonio Figueroa (), Manuel Morgado (morgadovargas@unistra.fr)"
      ]
    },
    {
      "cell_type": "markdown",
      "metadata": {
        "id": "jlUmP0fH7Ke8"
      },
      "source": [
        "Versiones de paquetes de python"
      ]
    },
    {
      "cell_type": "code",
      "metadata": {
        "id": "wKiOhXr37LWf",
        "colab": {
          "base_uri": "https://localhost:8080/"
        },
        "outputId": "e52332e2-841f-496d-d8e9-bb8a0400a7bd"
      },
      "source": [
        "#libs summary\n",
        "import types\n",
        "def imports():\n",
        "    for name, val in globals().items():\n",
        "        if isinstance(val, types.ModuleType):\n",
        "            yield val.__name__\n",
        "list(imports())"
      ],
      "execution_count": null,
      "outputs": [
        {
          "output_type": "execute_result",
          "data": {
            "text/plain": [
              "['builtins',\n",
              " 'builtins',\n",
              " 'IPython.core.shadowns',\n",
              " 'numpy',\n",
              " 'matplotlib.pyplot',\n",
              " 'types']"
            ]
          },
          "metadata": {
            "tags": []
          },
          "execution_count": 16
        }
      ]
    }
  ]
}