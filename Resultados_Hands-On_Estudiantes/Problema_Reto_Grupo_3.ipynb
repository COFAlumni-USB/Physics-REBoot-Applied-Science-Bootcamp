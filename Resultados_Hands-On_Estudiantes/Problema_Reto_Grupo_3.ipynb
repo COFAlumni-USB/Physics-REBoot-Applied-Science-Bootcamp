{
  "nbformat": 4,
  "nbformat_minor": 0,
  "metadata": {
    "colab": {
      "name": "Problema Reto Grupo 3.ipynb",
      "provenance": [],
      "collapsed_sections": []
    },
    "kernelspec": {
      "display_name": "Python 3",
      "name": "python3"
    },
    "language_info": {
      "name": "python"
    }
  },
  "cells": [
    {
      "cell_type": "markdown",
      "metadata": {
        "id": "mfK6dzarR_Vt"
      },
      "source": [
        "# *Problema reto*: Distribuyendo empanadas con Montecarlo\n",
        "\n",
        "**Grupo 3** : Ricardo Vaca, Pedro Ferreira, David Bellorin, Raffaella Martínez, Mario Trejo, Luis Viloria.\n",
        "\n",
        "1. Extienda el código a m empanadas por persona. Verifique que el código reproduce los resultados del caso anterior (3 personas, 3 sabores de empanadas, 2 empanadas por persona).\n",
        "\n",
        "2. Repita el cálculo para 3 personas, 3 sabores de empanadas y 3 empanadas por persona. Explique los resultados.\n",
        "\n",
        "3. Repita el cálculo usando parámetros de su escogencia. ¿Tienen sentido los resultados? Explique\n"
      ]
    },
    {
      "cell_type": "markdown",
      "metadata": {
        "id": "wgZ-OlrTSSG3"
      },
      "source": [
        "# Código\n",
        "\n",
        "El código extendido para el caso de $n$ personas con $m$ empanadas por persona y $k$ sabores de empanadas es el siguiente:"
      ]
    },
    {
      "cell_type": "code",
      "metadata": {
        "id": "3LTV0vXrLPnz"
      },
      "source": [
        "import numpy as np\n",
        "from tqdm import tqdm\n",
        "import matplotlib.pyplot as plt"
      ],
      "execution_count": null,
      "outputs": []
    },
    {
      "cell_type": "code",
      "metadata": {
        "id": "f66IARIywoNh"
      },
      "source": [
        "def main():\n",
        "    n = int(input(\"Numero de personas: \"))\n",
        "    m = int(input(\"Numero de empanadas por persona: \"))\n",
        "    k = int(input(\"Numero de sabores de empanadas: \"))\n",
        "    i = int(input(\"Numero de samples: \"))\n",
        "    j = int(input(\"Numero de iteraciones para estimacion por Montecarlo: \"))\n",
        "    Montecarlo(n,m,k,i,j)\n",
        "\n",
        "def samples(n,m,k,nsamples):\n",
        "    \"\"\"\n",
        "    Parameters\n",
        "    ----------\n",
        "    n : int\n",
        "        Numero de personas.\n",
        "    m : int\n",
        "        Numero de empanadas por persona.\n",
        "    k : int\n",
        "        Numero de sabores de empanadas.\n",
        "    nsamples: int\n",
        "        Numero de samples\n",
        "        \n",
        "    Returns\n",
        "    -------\n",
        "    Favorables : int\n",
        "      Numero de casos favorables en la muestra\n",
        "    Desfavorables : int\n",
        "      Numero de casos desfavorables en la muestra\n",
        "    \"\"\"\n",
        "\n",
        "    N_empanadas = m * n\n",
        "\n",
        "    Empanadas = np.array([i for i in range(k) for j in range(m)])\n",
        "\n",
        "    Samples = [np.random.choice(Empanadas,size = N_empanadas, replace=False) for i in range(nsamples)]\n",
        "\n",
        "    Duplicaciones = sum([revisar_duplicaciones(sample,m) for sample in Samples])\n",
        "\n",
        "    Favorables = nsamples-Duplicaciones\n",
        "\n",
        "    return Favorables,Duplicaciones\n",
        "\n",
        "def revisar_duplicaciones(v,m):\n",
        "    \"\"\"\n",
        "    Parameters\n",
        "    ----------\n",
        "    v : Array\n",
        "        el vector que queremos revisar si hay casos de duplicaciones.\n",
        "    m : int\n",
        "        Numero de empanadas por persona.\n",
        "  \n",
        "    Returns\n",
        "    -------\n",
        "    dup : int\n",
        "        [0,1] Resultado si hay o no duplicacion.\n",
        "        \"\"\"\n",
        "    for i in range(0, v.size, m):\n",
        "      if np.unique(v[i:i+m]).size != m:\n",
        "        return 1\n",
        "    return 0\n",
        "\n",
        "def Montecarlo(npersonas,nempanadas,nsabores,nsamples,niter):\n",
        "    \"\"\"\n",
        "    Parameters\n",
        "    ----------\n",
        "    npersonas : int\n",
        "        Numero total de personas.\n",
        "    nempanadas : int\n",
        "        Numero de empanadas por persona.\n",
        "    nsabores : int\n",
        "        Numero de sabores de empanadas.\n",
        "    nsamples : int\n",
        "        Numero de muestras por cada iteracion.\n",
        "    niter : int\n",
        "        Numero de iteraciones para estimacion por Montecarlo.\n",
        "\n",
        "    Returns\n",
        "    -------\n",
        "    Tasa_Favorables : float array\n",
        "        Arreglo (niter x 1) con los valores de la tasa de casos favorables \n",
        "        para cada iteracion.\n",
        "    Tasa_Desfavorables : float array\n",
        "        Arreglo (niter x 1) con los valores de la tasa de casos desfavorables \n",
        "        para cada iteracion.\n",
        "    \"\"\"\n",
        "\n",
        "    Evals = np.array([samples(npersonas,nempanadas,nsabores,nsamples) for i in tqdm(range(niter))])\n",
        "    Radio_DF = Evals[:,1]/Evals[:,0] #Desfavorables/Favorables\n",
        "    Tasa_Favorables = 1/((Radio_DF)+1) #Favorables/Totales\n",
        "    Tasa_Desfavorables = 1 - Tasa_Favorables \n",
        "    Analisis(Tasa_Favorables,Tasa_Desfavorables)\n",
        "    return Tasa_Favorables,Tasa_Desfavorables\n",
        "    \n",
        "def Analisis(T_F,T_D):\n",
        "    T_Fm = np.mean(T_F)\n",
        "    T_Fs = np.std(T_F)\n",
        "    T_Dm = np.mean(T_D)\n",
        "    T_Ds = np.std(T_D)\n",
        "    print('\\n La tasa de casos favorables media es : {:.4f} +/- {:.4f}'.format(T_Fm,T_Fs))\n",
        "    print('\\n La tasa de casos desfavorables media es : {:.4f} +/- {:.4f}'.format(T_Dm,T_Ds))\n",
        "\n",
        "main()\n",
        "\n",
        "'''\n",
        "def revisar_duplicaciones(v,m):\n",
        "    for i in range(0,len(v),m):\n",
        "        for j in range(0,m):\n",
        "            for k in range(j+1,m):\n",
        "                if v[i+j] == v[i+k]: return 1\n",
        "    return 0\n",
        "'''"
      ],
      "execution_count": null,
      "outputs": []
    },
    {
      "cell_type": "markdown",
      "metadata": {
        "id": "b9RnN_u-SY-o"
      },
      "source": [
        "\n",
        "# Resultados\n",
        "En este caso, utilizamos el mismo número de samples (10000) y el mismo número de iteraciones (1000) que se utilizaron en el código original.\n",
        "\n",
        "###1. Para tres personas, tres sabores y dos empanadas por persona:\n",
        "\n",
        "Tasa de casos favorables media: $0.5331 \\pm 0.0050.$\n",
        "\n",
        "Tasa de casos desfavorables media: $ 0.4669 \\pm 0.0050.$\n",
        "\n",
        "Recordamos que, con el código anterior se obtuvieron los siguientes resultados:\n",
        "\n",
        "    *La tasa de casos favorables media es : 0.5335 +/- 0.0049\n",
        "\n",
        "    *La tasa de casos desfavorables media es : 0.4665 +/- 0.0049\n",
        "\n",
        "\n",
        "Y la solución teórica:\n",
        "\n",
        "$\\frac{D}{T} = \\frac{7}{15} \\approx 0.4666...$\n",
        "\n",
        "$\\frac{F}{T} = \\frac{8}{15} \\approx 0.5333...$\n",
        "\n",
        "\n",
        "\n",
        " ### 2. Para tres empanadas, tres sabores y tres empanadas por persona: \n",
        " \n",
        " \n",
        " La tasa de casos favorables media es : $0.1284 \\pm 0.0033.$\n",
        "\n",
        " La tasa de casos desfavorables media es : $0.8716 \\pm 0.0033$\n",
        "\n",
        " Vemos que en este caso es mucho más probable que se repitan empanadas en comparación con el caso anterior."
      ]
    },
    {
      "cell_type": "markdown",
      "metadata": {
        "id": "f1bn3L5sQcb-"
      },
      "source": [
        "La función de probabilidad de que no se repitan las empanadas debe ser creciente al aumentar el número de sabores. Por el contrario, debería disminuir al aumentar el número de personas y el número de empanadas por persona. Podemos añadir  que  la función de probabilidad también será inversamente proporcional al aumento conjunto del número de personas y el número de empanadas por persona. \n",
        "\n"
      ]
    },
    {
      "cell_type": "markdown",
      "metadata": {
        "id": "EloPyGsUsWHO"
      },
      "source": [
        "### 3. Casos con parámetros escogidos\n",
        "\n",
        "\n",
        "### Probemos lo evidente:\n",
        "\n",
        "Para 4 personas, 5 empanadas por persona, 4 sabores, siempre se repetirán \n",
        "empanadas. El resultado que obtuvimos es:\n",
        "\n",
        "Tasa de casos favorables media es : $0.000 \\pm 0.0000.$\n",
        "\n",
        "Tasa de casos desfavorables media es : $1.000 \\pm 0.0000.$"
      ]
    },
    {
      "cell_type": "markdown",
      "metadata": {
        "id": "EtYvD_EhtElf"
      },
      "source": [
        "\n",
        "#### Aumentando el número de sabores:\n",
        "En primer lugar, veremos qué ocurre cuando aumentamos el número de sabores de empanadas dejando el número de personas y empanadas por persona:\n",
        "\n",
        " * *Para 3 personas, 2 empanadas por persona, 4 sabores:*\n",
        "\n",
        "Tasa de casos favorables media: $0.6475 \\pm 0.0048.$\n",
        "\n",
        "Tasa de casos desfavorables media: $ 0.3525 \\pm 0.0048.$\n",
        "\n",
        "\n",
        "* *Para 3 personas, 2 empanadas por persona, 5 sabores:*\n",
        "\n",
        "Tasa de casos favorables media es : $0.7112 \\pm 0.0045.$\n",
        "\n",
        "Tasa de casos desfavorables media es : $0.2888 \\pm 0.0045.$\n",
        "\n",
        "\n",
        "* *Para 3 personas, 2 empanadas por persona, 6 sabores*\n",
        "\n",
        "Tasa de casos favorables media es : $0.7560 \\pm 0.0042.$\n",
        "\n",
        "Tasa de casos desfavorables media es : $0.2440 \\pm 0.0042.$\n",
        "\n"
      ]
    },
    {
      "cell_type": "code",
      "metadata": {
        "colab": {
          "base_uri": "https://localhost:8080/",
          "height": 351
        },
        "id": "QeFwutG0ef8j",
        "outputId": "6faca06c-e2e6-453b-c5d5-a13d0682260a"
      },
      "source": [
        "# Graficamos el resultado para \n",
        "x=[3,4,5,6,7,8]\n",
        "f_x=[0.1284, 0.6475,0.7112,0.7560,0.7895, 0.8149]\n",
        "\n",
        "fig = plt.figure(figsize=(10,5))\n",
        "plt.scatter(x, f_x)\n",
        "#plt.suptitle(r'Probabilidad de que no se repitan al variar el número de sabores',fontweight='bold')\n",
        "plt.xlabel('Número de sabores',fontweight='bold')\n",
        "plt.ylabel('Probabiildad de que no se repitan',fontweight='bold')"
      ],
      "execution_count": null,
      "outputs": [
        {
          "data": {
            "text/plain": [
              "Text(0, 0.5, 'Probabiildad de que no se repitan')"
            ]
          },
          "execution_count": 6,
          "metadata": {},
          "output_type": "execute_result"
        },
        {
          "data": {
            "image/png": "[encoded data removed]",
            "text/plain": [
              "<Figure size 720x360 with 1 Axes>"
            ]
          },
          "metadata": {},
          "output_type": "display_data"
        }
      ]
    },
    {
      "cell_type": "markdown",
      "metadata": {
        "id": "-u1jPGnBlsze"
      },
      "source": [
        "#### Aumentando el número de personas y sabores (dos empanadas por persona):\n",
        "\n",
        "Vemos qué ocurre si aumentamos en conjunto el número de empanadas y el número de sabores\n",
        "\n",
        "* *Para 5 personas, 2 empanadas por persona, 5 sabores*\n",
        "\n",
        "Tasa de casos favorables media es : $0.5755 \\pm 0.0051.$\n",
        "\n",
        "Tasa de casos desfavorables media es : $0.4245 \\pm 0.0051.$\n",
        "\n",
        "* *Para 6 personas, 2 empanadas por persona, 6 sabores*\n",
        "\n",
        "Tasa de casos favorables media es : $0.5810 \\pm 0.0047.$\n",
        "\n",
        "Tasa de casos desfavorables media es : $0.4190 \\pm 0.0047.$\n"
      ]
    },
    {
      "cell_type": "markdown",
      "metadata": {
        "id": "66dYVe4sRVn-"
      },
      "source": [
        " \n",
        "\n",
        "---\n",
        "\n",
        "\n"
      ]
    },
    {
      "cell_type": "code",
      "metadata": {
        "colab": {
          "background_save": true,
          "base_uri": "https://localhost:8080/",
          "height": 372
        },
        "id": "jWppur3In1BS",
        "outputId": "4307b84d-6515-48eb-ef66-6ff46c43d19a"
      },
      "source": [
        "# Graficamos el resultado para \n",
        "x=[2,3,4,5,6,7]\n",
        "f_x=[0.666, 0.5331, 0.5713 , 0.5755,0.5810, 0.5845]\n",
        "\n",
        "\n",
        "fig = plt.figure(figsize=(10,5))\n",
        "plt.ylim(0.4,0.7)\n",
        "plt.scatter(x, f_x)\n",
        "#plt.suptitle(r'Probabilidad de que no se repitan al variar el número de sabores',fontweight='bold')\n",
        "plt.xlabel('Número de sabores y personas',fontweight='bold')\n",
        "plt.ylabel('Probabilidad de que no se repitan',fontweight='bold')"
      ],
      "execution_count": null,
      "outputs": [
        {
          "data": {
            "text/plain": [
              "Text(0, 0.5, 'Probabilidad de que no se repitan')"
            ]
          },
          "execution_count": null,
          "metadata": {},
          "output_type": "execute_result"
        },
        {
          "data": {
            "image/png": "[encoded data removed]",
            "text/plain": [
              "<Figure size 720x360 with 1 Axes>"
            ]
          },
          "metadata": {},
          "output_type": "display_data"
        }
      ]
    },
    {
      "cell_type": "markdown",
      "metadata": {
        "id": "_DIgwwLuoroq"
      },
      "source": [
        "###Una curiosidad\n",
        "\n",
        "¿Qué pasa si colocamos el mismo número de personas, empanadas y sabores?\n",
        "\n"
      ]
    },
    {
      "cell_type": "code",
      "metadata": {
        "colab": {
          "base_uri": "https://localhost:8080/",
          "height": 351
        },
        "id": "b5NyHJiJoCv2",
        "outputId": "ea874cb1-4043-429f-fae9-b51693ec2fe2"
      },
      "source": [
        "# Graficamos el resultado para \n",
        "x=[2,3,4,5,6]\n",
        "f_x=[0.666,0.1284, 0.0053, 0  ,0 ]\n",
        "\n",
        "\n",
        "fig = plt.figure(figsize=(10,5))\n",
        "plt.scatter(x, f_x)\n",
        "#plt.suptitle(r'Probabilidad de que no se repitan al variar el número de sabores',fontweight='bold')\n",
        "plt.xlabel('N',fontweight='bold')\n",
        "plt.ylabel('Probabiildad de que no se repitan',fontweight='bold')"
      ],
      "execution_count": null,
      "outputs": [
        {
          "data": {
            "text/plain": [
              "Text(0, 0.5, 'Probabiildad de que no se repitan')"
            ]
          },
          "execution_count": 8,
          "metadata": {},
          "output_type": "execute_result"
        },
        {
          "data": {
            "image/png": "[encoded data removed]",
            "text/plain": [
              "<Figure size 720x360 with 1 Axes>"
            ]
          },
          "metadata": {},
          "output_type": "display_data"
        }
      ]
    }
  ]
}