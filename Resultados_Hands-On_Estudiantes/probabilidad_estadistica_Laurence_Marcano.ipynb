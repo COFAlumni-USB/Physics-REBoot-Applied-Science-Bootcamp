{
 "cells": [
  {
   "cell_type": "markdown",
   "metadata": {},
   "source": [
    "**Ejercicio 1:**\n",
    "\n",
    "Calcula la integral de la siguiente función: $f(x)=x$ de 0 a 1.\n",
    "\n",
    "Usa dos métodos para resolver la integral. El primer método es de forma numérica como una sumatoria, y el segundo método es usando una función de las librerías de Python.\n"
   ]
  },
  {
   "cell_type": "code",
   "execution_count": 6,
   "metadata": {},
   "outputs": [
    {
     "name": "stdout",
     "output_type": "stream",
     "text": [
      "0.5005000000000002\n"
     ]
    }
   ],
   "source": [
    "def integration(begin,end):\n",
    "    # suma acumulada de cada rectangulo\n",
    "    acumulated_sum = 0 \n",
    "    # numero de rectangulos\n",
    "    n = 1000 \n",
    "    # el ancho de cada rectangulo\n",
    "    width = (end - begin)/n \n",
    "    # primer rectangulo\n",
    "    rectangle=1\n",
    "    while rectangle <= n:\n",
    "        x = begin + (width*rectangle)\n",
    "        y = x\n",
    "        area = y * width\n",
    "        acumulated_sum +=  area\n",
    "        rectangle += 1\n",
    "    print(acumulated_sum)\n",
    "        \n",
    "        \n",
    "integration(0,1)"
   ]
  },
  {
   "cell_type": "code",
   "execution_count": 18,
   "metadata": {},
   "outputs": [
    {
     "name": "stdout",
     "output_type": "stream",
     "text": [
      "0.5\n"
     ]
    }
   ],
   "source": [
    "from scipy import integrate\n",
    "\n",
    "#funcion a resolver\n",
    "def function_to_solve(x):\n",
    "    return x\n",
    "# integracion\n",
    "integral = integrate.quad(function_to_solve, 0., 1.)\n",
    "print(integral[0])"
   ]
  },
  {
   "cell_type": "markdown",
   "metadata": {},
   "source": [
    "**Ejercicio 2:**\n",
    "\n",
    "La masa de una partícula tiene una distribución normalizada dada por la función:\n",
    "\n",
    "$m(x) = a e^{-a x}$\n",
    "\n",
    "donde x es una variable, $a=1/3$, y el dominio de la funcion es $x>0$.\n",
    "\n",
    "¿Cuál es la probabilidad de que la partícula tenga una masa mayor que 5?"
   ]
  },
  {
   "cell_type": "code",
   "execution_count": 17,
   "metadata": {},
   "outputs": [
    {
     "name": "stdout",
     "output_type": "stream",
     "text": [
      "la probabilidad de que la partícula tenga masa mayor que 5 es:  0.189\n"
     ]
    }
   ],
   "source": [
    "from scipy import integrate\n",
    "from numpy import exp\n",
    "from numpy.core.numeric import Infinity \n",
    "# se define la funcion de distribución de masa\n",
    "def masa(x):\n",
    "    return 1/3*exp(-1/3*x)\n",
    "# se calcula la probabilidad\n",
    "probabilidad_masa = integrate.quad(masa, 5., Infinity)\n",
    "print(\"la probabilidad de que la partícula tenga masa mayor que 5 es: \", round(probabilidad_masa[0], 3))"
   ]
  },
  {
   "cell_type": "markdown",
   "metadata": {},
   "source": [
    "**Ejercicio 3:**\n",
    "\n",
    "Una distribución Gaussiana centrada en $\\mu$ y con desviación estándar $\\sigma$ está definida como:\n",
    "\n",
    "f(x) = $\\frac{1}{\\sigma \\sqrt{2 \\pi}} e^{\\frac{-1}{2}(\\frac{x-\\mu}{\\sigma} )^2}$\n",
    "\n",
    "\n",
    "Comprueba numéricamente que el valor esperado de esta distribución es $\\mu$ y que su varianza es $\\sigma ^2$.\n",
    "\n",
    "Sugerencia:\n",
    "\n",
    "El valor esperado $E[x]$ de una variable x con distribución de probabilidad dada por $f(x)$ se define como:\n",
    "\n",
    "$E[x] = \\int x f(x) dx$\n",
    "\n",
    "Mientras que la varianza $V[x]$ se puede calcular como:\n",
    "$V[x] = E[x^2] - (E[x])^2 $\n"
   ]
  },
  {
   "cell_type": "code",
   "execution_count": 40,
   "metadata": {},
   "outputs": [
    {
     "name": "stdout",
     "output_type": "stream",
     "text": [
      "ingrese el valor de mu: 1.5\n",
      "ingrese el valor de sigma: 0.5\n",
      "el valor esperado para mu = 1.5 es: 1.5\n",
      "la varianza para sigma = 1.5 es: 0.25\n"
     ]
    }
   ],
   "source": [
    "from numpy import sqrt, pi, exp\n",
    "from scipy import integrate\n",
    "from numpy.core import Infinity\n",
    "# se define la funcion de distribución gaussiana\n",
    "def dist_gauss(x, mu, sigma):\n",
    "    return (1/(sigma*sqrt(2*np.pi)))*exp(-1/2*((x-mu)/sigma)**2)\n",
    "\n",
    "mu = float(input(\"ingrese el valor de mu: \"))\n",
    "sigma = float(input(\"ingrese el valor de sigma: \"))\n",
    "\n",
    "# se define la funcion a obtener su valor esperado\n",
    "def argument_expec_value(x):\n",
    "    return x*dist_gauss(x,mu,sigma)\n",
    "\n",
    "# se calcula el valor esperado\n",
    "expected_value = integrate.quad(argument_expec_value, -Infinity, Infinity)\n",
    "print(\"el valor esperado para mu = {} es: {}\".format(mu,round(expected_value[0],2)))\n",
    "\n",
    "# se calcula el valor esperado de x al cuadrado\n",
    "def arg_exp_val_x_2(x):\n",
    "    return x**2 * dist_gauss(x,mu,sigma)\n",
    "\n",
    "expected_value_x_2 = integrate.quad(arg_exp_val_x_2, -Infinity, Infinity)\n",
    "\n",
    "# se calcula la varianza\n",
    "varianza = expected_value_x_2[0] - (expected_value[0])**2\n",
    "print(\"la varianza para sigma = {} es: {}\".format(mu,round(varianza,5)))"
   ]
  }
 ],
 "metadata": {
  "kernelspec": {
   "display_name": "Python 3",
   "language": "python",
   "name": "python3"
  },
  "language_info": {
   "codemirror_mode": {
    "name": "ipython",
    "version": 3
   },
   "file_extension": ".py",
   "mimetype": "text/x-python",
   "name": "python",
   "nbconvert_exporter": "python",
   "pygments_lexer": "ipython3",
   "version": "3.8.5"
  }
 },
 "nbformat": 4,
 "nbformat_minor": 4
}
