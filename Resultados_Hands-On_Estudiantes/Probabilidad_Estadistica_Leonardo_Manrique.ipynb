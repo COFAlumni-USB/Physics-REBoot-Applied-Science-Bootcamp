Problema 1

-------------------
# Definimos los limites de integración

a=1 #limitre superior
b=0 #limite inferior

#Definimos la función

def f(x):
   return x

#Usando suma de Riemman hallamos el area

n=10000000
dx=(a-b)/n

#Suma de Riemman

Area=0
for i in range(n+1):
  Area+=f(b+dx*i)*dx

# Imprimir area

print ("Integral value: ", Area) 
--------------------------------

Problema 2

-----------------------------
from scipy.integrate import quad

#Damos valor a la constante
a=1/3

#Definimos la función
def m(x):
  return a*np.exp(-a*x)

# Limites de integración
a_= float('inf')
b_= 5

# Proabilidad de que m ocurra entre b_ y a_
prob , perror = quad(m,b_, a_);

print('Probabilidad',prob)
print('Error asociado', perror)
----------------------------

Problema 3

---------------------------
import numpy as np
from scipy.integrate import quad

# Limites de la distribución (A y B)
A=-float('inf')
B=float('inf')

# Esperanza o Valor esperado de la distribución de Gauss
def E(mu,sigma):
  return quad(lambda x: x / (sigma * np.sqrt(2*np.pi))*(np.exp(-(1/2)*(((x - mu)/sigma)**2)) ),A,B)

# Varianza
def V(mu,sigma):
   a,a_ = quad(lambda x: x**2 / (sigma * np.sqrt(2*np.pi))*(np.exp(-(1/2)*(((x - mu)/sigma)**2))),A,B)
   return a-E(mu,sigma)[0]**2

print('El valor esperado es: ',E(20,3)[0])
print('La varianza es: ',V(20,3))
