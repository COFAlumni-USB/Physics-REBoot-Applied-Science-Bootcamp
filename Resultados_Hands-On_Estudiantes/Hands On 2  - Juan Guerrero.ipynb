{
 "cells": [
  {
   "cell_type": "markdown",
   "id": "da916e87-93ee-4a72-b003-c270ea2346fc",
   "metadata": {},
   "source": [
    "## Ejercicio 1:"
   ]
  },
  {
   "cell_type": "code",
   "execution_count": 58,
   "id": "a23b7c49-c3f6-4717-b567-7148c3cf0962",
   "metadata": {},
   "outputs": [
    {
     "name": "stdout",
     "output_type": "stream",
     "text": [
      "the numeric integral is:  0.7141581838700393\n",
      "the integral using numpy is:  0.7142857142857144\n"
     ]
    }
   ],
   "source": [
    "import numpy as np\n",
    "from scipy.integrate import quad\n",
    "\n",
    "a = 0\n",
    "b = 1\n",
    "Particion = 100\n",
    "f = lambda x: 5*x**6\n",
    "x = np.linspace(a, b, Particion)\n",
    "S = 0 \n",
    "\n",
    "for i in range(len(x)-1):\n",
    "    xm = (x[i] + x[i+1])/2\n",
    "    delta = x[i+1] - x[i]\n",
    "    integrando = f(xm)*delta\n",
    "    S = S + integrando\n",
    "\n",
    "print(\"the numeric integral is: \", S)\n",
    "\n",
    "inte, err = quad(f, a, b)\n",
    "\n",
    "print(\"the integral using numpy is: \",inte)"
   ]
  },
  {
   "cell_type": "markdown",
   "id": "0bb9d94d-90cc-46e2-becc-dba245239cd9",
   "metadata": {},
   "source": [
    "## Ejercicio 2:"
   ]
  },
  {
   "cell_type": "code",
   "execution_count": 59,
   "id": "f9d32b2b-975c-403a-ab22-491e27facc9c",
   "metadata": {},
   "outputs": [
    {
     "name": "stdout",
     "output_type": "stream",
     "text": [
      "the probability is:  0.18887560283756188\n"
     ]
    }
   ],
   "source": [
    "import numpy as np\n",
    "from scipy.integrate import quad\n",
    "\n",
    "a = 1/3\n",
    "c = 0\n",
    "d = 5\n",
    "m = lambda x: a*(np.exp(-x*a))\n",
    "\n",
    "inte , err = quad(m, c, d)\n",
    "P=1-inte\n",
    "\n",
    "print(\"the probability is: \", P)"
   ]
  },
  {
   "cell_type": "markdown",
   "id": "30111980-631c-4699-8401-0b0f443568a2",
   "metadata": {},
   "source": [
    "## Ejercicio 3:"
   ]
  },
  {
   "cell_type": "code",
   "execution_count": 60,
   "id": "a964d7cd-ca64-4113-a5b2-950092af0bb7",
   "metadata": {},
   "outputs": [
    {
     "name": "stdout",
     "output_type": "stream",
     "text": [
      "the expected value is:  20.0    where mu is:  20\n",
      "the variance is:  25.000000000000007     where sigma is:  5    and sigma squared is:  25\n"
     ]
    }
   ],
   "source": [
    "import numpy as np\n",
    "from scipy.integrate import quad\n",
    "from numpy.core.numeric import Infinity\n",
    "import math\n",
    "\n",
    "mu = 20\n",
    "sigma = 5\n",
    "coef = 1/(((2*math.pi)**(1/2))*sigma)\n",
    "\n",
    "def f(x):\n",
    "    return coef*(np.exp((-1/2)*(((x-mu)/sigma)**2)))\n",
    "\n",
    "def expected_value_integrand(x):\n",
    "    return x*f(x)\n",
    "\n",
    "expected_value , expected_value_err = quad(expected_value_integrand, - Infinity, Infinity)\n",
    "\n",
    "print(\"the expected value is: \", expected_value, \"   where mu is: \", mu)\n",
    "\n",
    "def multiplier(x):\n",
    "    return (x-mu)**2\n",
    "\n",
    "def variance_integrand(x):\n",
    "    return multiplier(x)*f(x)\n",
    "\n",
    "variance , variance_err = quad(variance_integrand, - Infinity, Infinity)\n",
    "\n",
    "print(\"the variance is: \", variance, \"    where sigma is: \", sigma, \"   and sigma squared is: \", sigma**2)"
   ]
  }
 ],
 "metadata": {
  "kernelspec": {
   "display_name": "Python 3",
   "language": "python",
   "name": "python3"
  },
  "language_info": {
   "codemirror_mode": {
    "name": "ipython",
    "version": 3
   },
   "file_extension": ".py",
   "mimetype": "text/x-python",
   "name": "python",
   "nbconvert_exporter": "python",
   "pygments_lexer": "ipython3",
   "version": "3.8.8"
  }
 },
 "nbformat": 4,
 "nbformat_minor": 5
}
