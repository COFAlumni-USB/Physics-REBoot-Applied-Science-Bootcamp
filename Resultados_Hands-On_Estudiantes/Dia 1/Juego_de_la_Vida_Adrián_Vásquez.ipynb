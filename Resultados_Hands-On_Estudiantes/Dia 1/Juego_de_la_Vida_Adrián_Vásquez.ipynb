{
  "nbformat": 4,
  "nbformat_minor": 0,
  "metadata": {
    "colab": {
      "name": "Juego_de_la_Vida.Adrián_Vásquez.ipynb",
      "provenance": [],
      "collapsed_sections": []
    },
    "kernelspec": {
      "name": "python3",
      "display_name": "Python 3"
    },
    "language_info": {
      "name": "python"
    }
  },
  "cells": [
    {
      "cell_type": "code",
      "metadata": {
        "id": "GQCcnfjrpc5R"
      },
      "source": [
        "import numpy as np\n",
        "from matplotlib import pyplot as plt\n",
        "from matplotlib import animation as animation"
      ],
      "execution_count": null,
      "outputs": []
    },
    {
      "cell_type": "code",
      "metadata": {
        "id": "98cQ54OnVNId",
        "colab": {
          "base_uri": "https://localhost:8080/",
          "height": 979
        },
        "outputId": "e97fbfd3-feae-4246-a3ff-0a5a31839eeb"
      },
      "source": [
        "\n",
        "DimensionX = 20\n",
        "DimensionY = 20 #Dimensiones del array\n",
        "Grid  = np.zeros((DimensionX,DimensionY)) #Nombbre y creación del primer arra lleno de ceros.\n",
        "print (Grid)\n",
        "\n",
        "np.random.seed()\n",
        "\n",
        "#Veremos cuantos punttos colocar como vivos:\n",
        "\n",
        "a = np.random.randint(1,DimensionX*DimensionY)\n",
        "\n",
        "\n",
        "#Generamos a posiciones aleatorias\n",
        "pos_alea =  []#Crearemos una lista cuyos elementos serán las funciones aleatorias a utilizar:\n",
        "for i in range (a):\n",
        "  coor1=np.random.randint(0,DimensionX)\n",
        "  coor2=np.random.randint(0,DimensionY)\n",
        "  pos_alea.append([coor1,coor2]) \n",
        "\n",
        "#print(pos_alea) #(se imprime la lista de las posiciones aleatorias si se quiere).\n",
        "print(\"Ahora las células vivas modificarán la forma de la matriz anterior de la forma:\")\n",
        "\n",
        "for i in range(len(pos_alea)):\n",
        "  Grid[(pos_alea[i][0],pos_alea[i][1])] = 1 #Se asignan ahora 1's a la matriz Grind original llena de ceros.\n",
        "\n",
        "print(Grid)\n",
        "\n",
        "plt.figure()\n",
        "plt.imshow(Grid)"
      ],
      "execution_count": null,
      "outputs": [
        {
          "output_type": "stream",
          "name": "stdout",
          "text": [
            "[[0. 0. 0. 0. 0. 0. 0. 0. 0. 0. 0. 0. 0. 0. 0. 0. 0. 0. 0. 0.]\n",
            " [0. 0. 0. 0. 0. 0. 0. 0. 0. 0. 0. 0. 0. 0. 0. 0. 0. 0. 0. 0.]\n",
            " [0. 0. 0. 0. 0. 0. 0. 0. 0. 0. 0. 0. 0. 0. 0. 0. 0. 0. 0. 0.]\n",
            " [0. 0. 0. 0. 0. 0. 0. 0. 0. 0. 0. 0. 0. 0. 0. 0. 0. 0. 0. 0.]\n",
            " [0. 0. 0. 0. 0. 0. 0. 0. 0. 0. 0. 0. 0. 0. 0. 0. 0. 0. 0. 0.]\n",
            " [0. 0. 0. 0. 0. 0. 0. 0. 0. 0. 0. 0. 0. 0. 0. 0. 0. 0. 0. 0.]\n",
            " [0. 0. 0. 0. 0. 0. 0. 0. 0. 0. 0. 0. 0. 0. 0. 0. 0. 0. 0. 0.]\n",
            " [0. 0. 0. 0. 0. 0. 0. 0. 0. 0. 0. 0. 0. 0. 0. 0. 0. 0. 0. 0.]\n",
            " [0. 0. 0. 0. 0. 0. 0. 0. 0. 0. 0. 0. 0. 0. 0. 0. 0. 0. 0. 0.]\n",
            " [0. 0. 0. 0. 0. 0. 0. 0. 0. 0. 0. 0. 0. 0. 0. 0. 0. 0. 0. 0.]\n",
            " [0. 0. 0. 0. 0. 0. 0. 0. 0. 0. 0. 0. 0. 0. 0. 0. 0. 0. 0. 0.]\n",
            " [0. 0. 0. 0. 0. 0. 0. 0. 0. 0. 0. 0. 0. 0. 0. 0. 0. 0. 0. 0.]\n",
            " [0. 0. 0. 0. 0. 0. 0. 0. 0. 0. 0. 0. 0. 0. 0. 0. 0. 0. 0. 0.]\n",
            " [0. 0. 0. 0. 0. 0. 0. 0. 0. 0. 0. 0. 0. 0. 0. 0. 0. 0. 0. 0.]\n",
            " [0. 0. 0. 0. 0. 0. 0. 0. 0. 0. 0. 0. 0. 0. 0. 0. 0. 0. 0. 0.]\n",
            " [0. 0. 0. 0. 0. 0. 0. 0. 0. 0. 0. 0. 0. 0. 0. 0. 0. 0. 0. 0.]\n",
            " [0. 0. 0. 0. 0. 0. 0. 0. 0. 0. 0. 0. 0. 0. 0. 0. 0. 0. 0. 0.]\n",
            " [0. 0. 0. 0. 0. 0. 0. 0. 0. 0. 0. 0. 0. 0. 0. 0. 0. 0. 0. 0.]\n",
            " [0. 0. 0. 0. 0. 0. 0. 0. 0. 0. 0. 0. 0. 0. 0. 0. 0. 0. 0. 0.]\n",
            " [0. 0. 0. 0. 0. 0. 0. 0. 0. 0. 0. 0. 0. 0. 0. 0. 0. 0. 0. 0.]]\n",
            "Ahora las células vivas modificarán la forma de la matriz anterior de la forma:\n",
            "[[0. 0. 0. 0. 0. 0. 0. 0. 1. 1. 0. 0. 0. 0. 0. 0. 1. 0. 0. 0.]\n",
            " [0. 0. 0. 0. 0. 0. 0. 1. 0. 1. 0. 0. 0. 0. 0. 0. 1. 0. 1. 0.]\n",
            " [0. 0. 0. 0. 0. 0. 0. 0. 0. 0. 0. 0. 1. 0. 0. 0. 0. 1. 0. 0.]\n",
            " [0. 0. 0. 0. 1. 0. 1. 0. 1. 0. 0. 0. 0. 1. 0. 0. 1. 0. 0. 0.]\n",
            " [0. 0. 0. 0. 0. 0. 1. 0. 0. 0. 0. 0. 1. 0. 0. 1. 1. 1. 0. 0.]\n",
            " [0. 0. 0. 0. 0. 0. 0. 0. 0. 0. 0. 0. 0. 1. 0. 0. 0. 0. 0. 0.]\n",
            " [1. 0. 0. 1. 0. 1. 0. 0. 0. 0. 0. 0. 0. 0. 0. 0. 1. 0. 1. 0.]\n",
            " [0. 0. 0. 1. 0. 0. 1. 0. 0. 0. 0. 0. 0. 0. 0. 0. 0. 0. 1. 0.]\n",
            " [0. 0. 0. 0. 0. 0. 0. 0. 1. 0. 0. 1. 0. 0. 0. 1. 0. 0. 0. 1.]\n",
            " [0. 0. 0. 0. 0. 0. 0. 0. 0. 1. 0. 0. 0. 0. 0. 0. 0. 0. 0. 0.]\n",
            " [1. 0. 0. 0. 1. 0. 0. 0. 0. 0. 0. 1. 1. 0. 0. 0. 0. 0. 0. 0.]\n",
            " [0. 0. 0. 1. 0. 1. 0. 0. 0. 1. 1. 1. 0. 0. 0. 0. 0. 1. 0. 1.]\n",
            " [0. 0. 0. 1. 0. 1. 0. 0. 0. 0. 0. 0. 0. 0. 0. 0. 0. 0. 1. 0.]\n",
            " [0. 0. 0. 0. 1. 0. 0. 0. 0. 1. 1. 0. 0. 0. 0. 0. 1. 0. 0. 0.]\n",
            " [0. 0. 1. 0. 0. 0. 0. 0. 1. 0. 0. 0. 0. 0. 0. 0. 0. 0. 1. 0.]\n",
            " [0. 0. 1. 0. 0. 0. 0. 1. 0. 0. 1. 0. 0. 0. 0. 0. 0. 0. 0. 0.]\n",
            " [0. 0. 1. 0. 0. 0. 0. 0. 1. 0. 0. 0. 0. 0. 0. 0. 0. 1. 0. 0.]\n",
            " [1. 1. 0. 0. 0. 1. 1. 0. 0. 0. 0. 1. 0. 1. 1. 0. 0. 0. 0. 1.]\n",
            " [0. 0. 0. 0. 0. 0. 0. 1. 0. 0. 0. 0. 0. 0. 1. 0. 0. 0. 0. 0.]\n",
            " [0. 0. 0. 0. 0. 0. 0. 1. 0. 0. 0. 0. 1. 0. 0. 0. 0. 0. 0. 0.]]\n"
          ]
        },
        {
          "output_type": "execute_result",
          "data": {
            "text/plain": [
              "<matplotlib.image.AxesImage at 0x7f7eba7a6950>"
            ]
          },
          "metadata": {},
          "execution_count": 287
        },
        {
          "output_type": "display_data",
          "data": {
            "image/png": "[encoded data removed]",
            "text/plain": [
              "<Figure size 432x288 with 1 Axes>"
            ]
          },
          "metadata": {
            "needs_background": "light"
          }
        }
      ]
    },
    {
      "cell_type": "code",
      "metadata": {
        "id": "PZO6WNvQOzUi"
      },
      "source": [
        "# Definir una funcion con la region entorno a la celda i,j\n",
        "\n",
        "#Esta función genera una lista con los vecinos de la celda (i,j) de cualquier matriz que se introduzca:\n",
        "\n",
        "def region_local(Grid,i,j):\n",
        "  Vecinos = []\n",
        "  if i%(DimensionX-1) != 0 and j%(DimensionY-1) != 0:\n",
        "    for m in range(0,3):\n",
        "      for k in range(0,3):\n",
        "          Vecinos.append(Grid[(i-1+m,j-1+k)])        \n",
        "  elif i%(DimensionX-1) == 0 and j%(DimensionY-1) == 0:\n",
        "    for m in range(0,2):\n",
        "      for k in range(0,2):\n",
        "        Vecinos.append(Grid[(i-1+m,j-1+k)])       \n",
        "  elif i%(DimensionX-1) == 0:\n",
        "      for m in range(0,2):\n",
        "        for k in range(0,3):\n",
        "          Vecinos.append(Grid[(i-1+m,j-1+k)])  \n",
        "  else: \n",
        "    for m in range(0,3):\n",
        "      for k in range(0,2):\n",
        "        Vecinos.append(Grid[(i-1+m,j-1+k)]) \n",
        "\n",
        "  return Vecinos\n",
        "\n",
        "#print(region_local(Grid,0,0)) #Si se desea, la lista anterior se imprime en la consola para con la matriz Grid.\n"
      ],
      "execution_count": null,
      "outputs": []
    },
    {
      "cell_type": "code",
      "metadata": {
        "colab": {
          "base_uri": "https://localhost:8080/",
          "height": 35
        },
        "id": "8l1deV17BrDl",
        "outputId": "7d9effd3-1aed-4a14-b980-3885cfc99c3c"
      },
      "source": [
        "# Definir funcion logica celda\n",
        "\n",
        "def logica_celda(Grid,i,j): \n",
        "  local = region_local(Grid,i,j)\n",
        "  local.remove(Grid[(i,j)])\n",
        "  a = local.count(1)# Numero de células vecinas vivas.\n",
        "  if Grid[(i,j)] == 1: #condición para si la célula en cuestión está viva.\n",
        "    if a >= 4 or a <= 1:\n",
        "      Grid[(i,j)] = 0 \n",
        "  else: #Condición por si la célula en cuestión está muerta.\n",
        "    if a >= 4 or a <=1:\n",
        "      Grid[(i,j)] = 0\n",
        "    elif a==3:\n",
        "      Grid[(i,j)] = 1\n",
        "  return Grid[(i,j)] \n",
        "  \n",
        "'''\n",
        "a = 5\n",
        "b = 6\n",
        "print(logica_celda(Grid,a,b))\n",
        "'''#Se imprime una celda prueba por si se quiere (a debe ser menor que DimensionX y b debe ser menor que DimensionY)\n"
      ],
      "execution_count": null,
      "outputs": [
        {
          "output_type": "execute_result",
          "data": {
            "application/vnd.google.colaboratory.intrinsic+json": {
              "type": "string"
            },
            "text/plain": [
              "'\\na = 5\\nb = 6\\nprint(logica_celda(Grid,a,b))\\n'"
            ]
          },
          "metadata": {},
          "execution_count": 288
        }
      ]
    },
    {
      "cell_type": "code",
      "metadata": {
        "id": "62KI-_Z00TQ3",
        "colab": {
          "base_uri": "https://localhost:8080/"
        },
        "outputId": "17f8e44b-ad9b-484a-fea7-cfc979fa90c8"
      },
      "source": [
        "def Ciclo(Grid): \n",
        "  Size = Grid.shape[0]\n",
        "  for i in range(Size):\n",
        "    for j in range(Size):\n",
        "      Grid[i][j] = logica_celda(Grid,i,j)\n",
        "  return Grid\n",
        "\n",
        "print(Ciclo(Grid))"
      ],
      "execution_count": null,
      "outputs": [
        {
          "output_type": "stream",
          "name": "stdout",
          "text": [
            "[[0. 0. 0. 0. 0. 1. 0. 0. 0. 0. 0. 0. 0. 0. 0. 0. 0. 0. 0. 0.]\n",
            " [1. 1. 1. 1. 0. 0. 0. 1. 1. 0. 0. 0. 1. 0. 1. 1. 1. 1. 1. 1.]\n",
            " [0. 0. 0. 0. 1. 1. 1. 1. 0. 0. 0. 0. 0. 1. 1. 0. 0. 0. 0. 1.]\n",
            " [1. 1. 1. 0. 1. 0. 0. 0. 0. 1. 0. 0. 0. 0. 0. 0. 1. 1. 0. 0.]\n",
            " [0. 0. 0. 1. 0. 1. 1. 1. 0. 1. 1. 0. 0. 0. 0. 0. 0. 0. 1. 0.]\n",
            " [0. 0. 1. 1. 0. 1. 0. 0. 0. 0. 0. 1. 0. 0. 0. 0. 0. 1. 1. 0.]\n",
            " [0. 0. 0. 1. 0. 1. 0. 1. 0. 1. 0. 1. 1. 0. 0. 0. 0. 0. 1. 0.]\n",
            " [0. 0. 1. 1. 0. 1. 0. 0. 1. 1. 0. 1. 0. 0. 0. 1. 0. 1. 1. 0.]\n",
            " [0. 0. 0. 1. 0. 1. 0. 0. 0. 0. 0. 1. 1. 1. 1. 1. 0. 1. 1. 0.]\n",
            " [0. 0. 0. 1. 0. 1. 1. 1. 1. 0. 1. 0. 0. 0. 0. 0. 0. 0. 1. 0.]\n",
            " [0. 0. 0. 1. 0. 0. 0. 0. 1. 0. 1. 0. 0. 0. 0. 1. 0. 1. 1. 0.]\n",
            " [0. 0. 0. 1. 0. 1. 1. 0. 1. 0. 1. 0. 0. 1. 1. 0. 0. 0. 1. 0.]\n",
            " [0. 0. 0. 1. 0. 1. 1. 0. 1. 0. 1. 0. 1. 0. 1. 0. 1. 1. 0. 0.]\n",
            " [0. 0. 0. 1. 0. 0. 0. 0. 0. 1. 0. 1. 0. 1. 0. 1. 0. 0. 0. 0.]\n",
            " [0. 0. 1. 1. 0. 1. 0. 0. 1. 1. 0. 1. 0. 1. 0. 1. 0. 0. 0. 0.]\n",
            " [0. 1. 0. 0. 0. 0. 0. 0. 0. 0. 0. 1. 0. 1. 1. 0. 0. 0. 0. 0.]\n",
            " [1. 0. 1. 1. 0. 0. 0. 0. 0. 1. 0. 0. 0. 1. 1. 0. 0. 0. 1. 1.]\n",
            " [1. 0. 0. 0. 0. 0. 0. 1. 0. 1. 1. 1. 1. 1. 1. 0. 0. 0. 1. 1.]\n",
            " [0. 1. 1. 0. 1. 0. 1. 1. 1. 1. 0. 1. 0. 1. 1. 0. 0. 0. 0. 0.]\n",
            " [0. 1. 0. 1. 1. 1. 1. 0. 1. 1. 1. 0. 0. 0. 0. 0. 0. 0. 0. 0.]]\n"
          ]
        }
      ]
    },
    {
      "cell_type": "code",
      "metadata": {
        "colab": {
          "base_uri": "https://localhost:8080/",
          "height": 312
        },
        "id": "lZoTV5kf1Qdy",
        "outputId": "b3552aba-f631-4af0-c0b2-d2a5495c5f47"
      },
      "source": [
        "import matplotlib.animation as animation\n",
        "from IPython.display import HTML, Image\n",
        "def Animar(i):\n",
        "  Ciclo(Grid)\n",
        "  ax1.clear()\n",
        "  ax1.imshow(Grid)\n",
        "  plt.suptitle('Generación N. {}'.format(i))\n",
        "  \n",
        "\n",
        "fig = plt.figure()\n",
        "ax1 = fig.add_subplot()\n",
        "\n",
        "animacion = animation.FuncAnimation(fig, Animar, interval=200,frames= 300)\n",
        "animacion.save('Juego_de_la_vida.gif', writer='pillow', fps=600)\n",
        "Image(url='Juego_de_la_vida.gif')\n"
      ],
      "execution_count": null,
      "outputs": [
        {
          "output_type": "execute_result",
          "data": {
            "application/vnd.google.colaboratory.intrinsic+json": {
              "type": "string"
            },
            "text/plain": [
              "\"\\nanimacion.save('Juego_de_la_vida.gif', writer='pillow', fps=600)\\nImage(url='Juego_de_la_vida.gif')\""
            ]
          },
          "metadata": {},
          "execution_count": 281
        },
        {
          "output_type": "display_data",
          "data": {
            "image/png": "[encoded data removed]",
            "text/plain": [
              "<Figure size 432x288 with 1 Axes>"
            ]
          },
          "metadata": {
            "needs_background": "light"
          }
        }
      ]
    }
  ]
}