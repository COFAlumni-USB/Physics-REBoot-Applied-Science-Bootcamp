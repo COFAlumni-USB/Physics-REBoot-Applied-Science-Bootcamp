{
  "nbformat": 4,
  "nbformat_minor": 0,
  "metadata": {
    "colab": {
      "name": "Jesús_Santos_Juego_de_la_vida.ipynb",
      "provenance": [],
      "include_colab_link": true
    },
    "kernelspec": {
      "name": "python3",
      "display_name": "Python 3"
    },
    "language_info": {
      "name": "python"
    }
  },
  "cells": [
    {
      "cell_type": "markdown",
      "metadata": {
        "id": "view-in-github",
        "colab_type": "text"
      },
      "source": [
        "<a href=\"https://colab.research.google.com/github/COFAlumni-USB/Physics-REBoot-Applied-Science-Bootcamp/blob/main/Resultados_Hands-On_Estudiantes/Dia%201/Jes%C3%BAs_Santos_Juego_de_la_vida.ipynb\" target=\"_parent\"><img src=\"https://colab.research.google.com/assets/colab-badge.svg\" alt=\"Open In Colab\"/></a>"
      ]
    },
    {
      "cell_type": "code",
      "metadata": {
        "id": "UqD5HpmcIcOQ",
        "colab": {
          "base_uri": "https://localhost:8080/",
          "height": 265
        },
        "outputId": "79c68c3e-2bc2-4096-bc56-5719af022633"
      },
      "source": [
        "import numpy as np\n",
        "import matplotlib.pyplot as plt\n",
        "import matplotlib.animation as animation\n",
        "\n",
        "gsize = 25                        #Definir el tamaño del grid\n",
        "Grid  = np.zeros((gsize,gsize))   # Inicializamos el array 2D, que llamaremos grid:\n",
        "rseed = np.random.seed            # Fijamos el seed para asi garantizar reproductibilidad de los resultados usando la funcion random seed\n",
        "\n",
        "\n",
        "# Decidimos aleatoriamente inicializar algunos de los puntos del grid como 'vivos' con la funcion np.random.randint\n",
        "#Generamos i, j  posiciones aleatorias desde 1 hasta low= tamaNo array, \n",
        "#En size definimos el tamaNo del subgrupo. Dos arrays de a.(tamaNoGridxTamanoGrid) entradas.\n",
        "\n",
        "idx = np.random.randint(-2,gsize, size=(100,2)) # a y b pueden ser cualquier numero pero se necesita un numero minimo de celdas. \n",
        "#asignamos a estas posiciones aleatorias del array Grid[(X, Y)] el valor de 1. \n",
        "\n",
        "for k in range(100):\n",
        "  Grid[(idx[k][0],idx[k][1])] = 1\n",
        "\n",
        "\n",
        "plt.figure()\n",
        "plt.imshow(Grid)\n",
        "\n",
        "\n",
        "# Definir una funcion con la region entorno a la celda i,j\n",
        "def region_local(array,i,j):\n",
        "    region = [[Grid[i-1,j-1],Grid[i-1,j],Grid[i-1,j+1]],[Grid[i,j-1],Grid[i,j],Grid[i,j+1]],[Grid[i-1,j-1],Grid[i,j-1],Grid[i+1,j+1]]]\n",
        "    return region\n",
        "\n",
        "\n",
        "\n",
        "# Definir funcion logica celda\n",
        "def logica_celda(array,i,j,valor):\n",
        "    r = region_local(array,i,j) #r es el subarray correspondiente a la region que rodea a la celula\n",
        "    N_vecinos = 0 #N es el numero total de vecinos vivos ya que los muertos son 0\n",
        "    for k in range(0,8):\n",
        "      N_vecinos = N_vecinos + r[k]\n",
        "    if valor == 1 and N_vecinos >= 2 and N_vecinos <=3: #Si la celula esta viva (i,j) = 1 y  hay 2 o 3 vecinos vivos asignamos 1\n",
        "        return 1\n",
        "\n",
        " #Si hay menos de 2 o mas de 3 vecinos vivos, asignamos 0\n",
        "    if valor == 1 and N_vecinos < 2 and N_vecinos >3:\n",
        "      return 0\n",
        " #Si la celula esta muerta (i,j) = 0 y hay 3 vecinos vivos asignamos 1\n",
        "    if valor == 0 and N_vecinos ==3:\n",
        "      return 1\n",
        "\n",
        "    else:\n",
        "        return 0\n",
        "\n",
        "#def Ciclo(Grid):\n",
        "#     for v in range(gsize):\n",
        "#        for w in range(gsize):\n",
        "#            Grid[v][w] = logica_celda(Grid,v,w)\n",
        "#    return Grid\n",
        "\n",
        "def Ciclo(Grid):\n",
        "    Tamano_grid = Grid.shape[0]\n",
        "    for i in range(Tamano_grid):\n",
        "        for j in range(Tamano_grid):\n",
        "            Grid[i][j] = logica_celda(Grid,i,j,Grid[i][j])\n",
        "    return Grid\n",
        "\n",
        "\n",
        "\n",
        "\n",
        "import matplotlib.animation as animation\n",
        "from IPython.display import HTML, Image\n",
        "def Animar2(i):\n",
        "    Ciclo2(Grid2)\n",
        "    ax1.clear()\n",
        "    ax1.imshow(Grid2)\n",
        "    plt.suptitle('Generación N. {}'.format(i))\n",
        "\n",
        "#fig = plt.figure()\n",
        "#ax1 = fig.add_subplot()\n",
        "#animacion = animation.FuncAnimation(fig, Animar2, interval=200,frames= 300)\n",
        "\n",
        "#animacion.save('Juego_de_la_vida(infinito).gif', writer='pillow', fps=60)\n",
        "#Image(url='Juego_de_la_vida(infinito).gif')"
      ],
      "execution_count": null,
      "outputs": [
        {
          "output_type": "display_data",
          "data": {
            "image/png": "[encoded data removed]",
            "text/plain": [
              "<Figure size 432x288 with 1 Axes>"
            ]
          },
          "metadata": {
            "needs_background": "light"
          }
        }
      ]
    }
  ]
}