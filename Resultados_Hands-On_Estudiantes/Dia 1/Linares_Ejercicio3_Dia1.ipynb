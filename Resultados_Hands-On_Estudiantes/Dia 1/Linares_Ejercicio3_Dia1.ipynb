{
 "cells": [
  {
   "cell_type": "markdown",
   "metadata": {},
   "source": [
    "# Ejercicio 3. Juego de la vida"
   ]
  },
  {
   "cell_type": "code",
   "execution_count": 41,
   "metadata": {
    "scrolled": false
   },
   "outputs": [
    {
     "data": {
      "text/html": [
       "<img src=\"Juego_de_la_vida.gif\"/>"
      ],
      "text/plain": [
       "<IPython.core.display.Image object>"
      ]
     },
     "execution_count": 41,
     "metadata": {},
     "output_type": "execute_result"
    },
    {
     "data": {
      "image/png": "[encoded data removed]",
      "text/plain": [
       "<Figure size 432x288 with 1 Axes>"
      ]
     },
     "metadata": {
      "needs_background": "light"
     },
     "output_type": "display_data"
    },
    {
     "data": {
      "image/png": "[encoded data removed]",
      "text/plain": [
       "<Figure size 432x288 with 1 Axes>"
      ]
     },
     "metadata": {
      "needs_background": "light"
     },
     "output_type": "display_data"
    }
   ],
   "source": [
    "# Importando las librerías necesarias\n",
    "import numpy as np\n",
    "import matplotlib.pyplot as plt\n",
    "import matplotlib.animation as animation\n",
    "from IPython.display import HTML, Image\n",
    "\n",
    "\n",
    "# Definiendo el grid. Array de dos dimensiones\n",
    "Grid  = np.zeros((20,20))\n",
    "#print(Grid)\n",
    "\n",
    "# Generando posiciones aleatorias dentro del grid que tendrán valor 1 (vivos)\n",
    "np.random.seed(0)\n",
    "idx = np.random.randint(20,size=(int(5*(5)),5))\n",
    "idy = np.random.randint(20,size=(int(5*(5)),5))\n",
    "Grid[(idx,idy)] = 1\n",
    "\n",
    "\n",
    "\n",
    "plt.figure()\n",
    "plt.imshow(Grid)\n",
    "\n",
    "\n",
    "# Definiendo una funcion con la region entorno a la celda i,j\n",
    "def region_local(Grid,i,j):\n",
    "    region = Grid[i-1:i+2,j-1:j+2]\n",
    "    return region\n",
    "\n",
    "\n",
    "# Definiendo la funcion logica celda\n",
    "def logica_celda(array):\n",
    "    \n",
    "    valor = array[1,1]\n",
    "        \n",
    "    if valor == 1:    # Contando los vecinos vivos\n",
    "        N = array.sum() - 1\n",
    "        \n",
    "        #Si la célula está viva (1) y hay 2 o 3 vecinos vivos asignamos 1\n",
    "        if N >= 2 and N <=3:\n",
    "            return array\n",
    "        \n",
    "        #Si hay menos de 2 o mas de 3 vecinos vivos, asignamos 0\n",
    "        else:\n",
    "            array[1,1] = 0\n",
    "            return array\n",
    "    \n",
    "    else:\n",
    "        N = array.sum()\n",
    "        \n",
    "        #Si la celula esta muerta (0) y hay 3 vecinos vivos asignamos 1\n",
    "        if N == 3:\n",
    "            array[1,1] = 1\n",
    "            return array\n",
    "\n",
    "        else:\n",
    "            return array\n",
    "\n",
    "\n",
    "# Aplicando las reglas a todas las celdas, excepto los bordes\n",
    "def Ciclo(Grid):\n",
    "    Tamano_grid = Grid.shape[0]\n",
    "    for i in range(1,19):\n",
    "        for j in range(1,19):\n",
    "            array2 = logica_celda(region_local(Grid,i,j))\n",
    "            Grid[i][j] = array2[1,1]\n",
    "    return Grid\n",
    "\n",
    "\n",
    "# Definiendo animación\n",
    "def Animar(i):\n",
    "    Ciclo(Grid)\n",
    "    ax1.clear()\n",
    "    ax1.imshow(Grid)\n",
    "    plt.suptitle('Generación N. {}'.format(i))\n",
    "\n",
    "fig = plt.figure()\n",
    "ax1 = fig.add_subplot()\n",
    "animacion = animation.FuncAnimation(fig, Animar, interval=200,frames= 300)\n",
    "\n",
    "animacion.save('Juego_de_la_vida.gif', writer='pillow', fps=60)\n",
    "Image(url='Juego_de_la_vida.gif')\n"
   ]
  },
  {
   "cell_type": "markdown",
   "metadata": {},
   "source": [
    "Realizado por María Linares"
   ]
  }
 ],
 "metadata": {
  "kernelspec": {
   "display_name": "Python 3",
   "language": "python",
   "name": "python3"
  },
  "language_info": {
   "codemirror_mode": {
    "name": "ipython",
    "version": 3
   },
   "file_extension": ".py",
   "mimetype": "text/x-python",
   "name": "python",
   "nbconvert_exporter": "python",
   "pygments_lexer": "ipython3",
   "version": "3.8.5"
  }
 },
 "nbformat": 4,
 "nbformat_minor": 4
}
