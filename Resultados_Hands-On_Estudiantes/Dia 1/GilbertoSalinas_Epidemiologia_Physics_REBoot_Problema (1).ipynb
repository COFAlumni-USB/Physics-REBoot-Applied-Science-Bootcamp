{
  "nbformat": 4,
  "nbformat_minor": 0,
  "metadata": {
    "colab": {
      "name": "Copy of Epidemiologia_Physics-REBoot-Problema.ipynb",
      "provenance": [],
      "collapsed_sections": []
    },
    "kernelspec": {
      "display_name": "Python 3",
      "language": "python",
      "name": "python3"
    },
    "language_info": {
      "codemirror_mode": {
        "name": "ipython",
        "version": 3
      },
      "file_extension": ".py",
      "mimetype": "text/x-python",
      "name": "python",
      "nbconvert_exporter": "python",
      "pygments_lexer": "ipython3",
      "version": "3.8.8"
    },
    "latex_envs": {
      "LaTeX_envs_menu_present": true,
      "autoclose": false,
      "autocomplete": true,
      "bibliofile": "biblio.bib",
      "cite_by": "apalike",
      "current_citInitial": 1,
      "eqLabelWithNumbers": true,
      "eqNumInitial": 1,
      "hotkeys": {
        "equation": "Ctrl-E",
        "itemize": "Ctrl-I"
      },
      "labels_anchors": false,
      "latex_user_defs": false,
      "report_style_numbering": false,
      "user_envs_cfg": false
    },
    "toc": {
      "base_numbering": 1,
      "nav_menu": {},
      "number_sections": true,
      "sideBar": true,
      "skip_h1_title": false,
      "title_cell": "Table of Contents",
      "title_sidebar": "Contents",
      "toc_cell": false,
      "toc_position": {},
      "toc_section_display": true,
      "toc_window_display": false
    },
    "varInspector": {
      "cols": {
        "lenName": 16,
        "lenType": 16,
        "lenVar": 40
      },
      "kernels_config": {
        "python": {
          "delete_cmd_postfix": "",
          "delete_cmd_prefix": "del ",
          "library": "var_list.py",
          "varRefreshCmd": "print(var_dic_list())"
        },
        "r": {
          "delete_cmd_postfix": ") ",
          "delete_cmd_prefix": "rm(",
          "library": "var_list.r",
          "varRefreshCmd": "cat(var_dic_list()) "
        }
      },
      "types_to_exclude": [
        "module",
        "function",
        "builtin_function_or_method",
        "instance",
        "_Feature"
      ],
      "window_display": false
    }
  },
  "cells": [
    {
      "cell_type": "markdown",
      "metadata": {
        "ExecuteTime": {
          "end_time": "2021-08-22T21:45:47.206057Z",
          "start_time": "2021-08-22T21:45:47.130362Z"
        },
        "id": "fFO9wqERMA_A"
      },
      "source": [
        "<p align=\"center\">\n",
        "<img src='https://static.wixstatic.com/media/42c521_bbcac1847d1a46739c6ccb446a2be592~mv2.png/v1/fill/w_490,h_189,al_c,q_85,usm_0.66_1.00_0.01/20210730_website_header.webp' width=\"1000\" />\n",
        "</p>\n",
        "\n",
        "<font size=\"6\">Actividades Hand-Ons</font>\n"
      ]
    },
    {
      "cell_type": "markdown",
      "metadata": {
        "id": "_HxY_cJRMA_B"
      },
      "source": [
        "<font size=\"12\">Modelaje matemático de epidemias</font>\n"
      ]
    },
    {
      "cell_type": "markdown",
      "metadata": {
        "id": "ud2ROOlWMA_C"
      },
      "source": [
        "# Modelo SIR"
      ]
    },
    {
      "cell_type": "markdown",
      "metadata": {
        "id": "IVbHtTIFi9LT"
      },
      "source": [
        "Actualmente nos encontramos en el 2021 después de estar 18 meses confinados a estar en casa debido a una enfermedad extremadamente contagiosa llamada COVID-19. \n",
        "\n",
        "A continuación se presenta el modelo matemático determinista **SIR** (**S**uceptible, **I**nfeccioso, **R**ecobrado)  desarrollado en el [1927 por W.O Kermack y A.G. McKendrick](https://doi.org/10.1098/rspa.1927.0118)\n",
        "\n",
        "\n",
        "Este modelo describe la evolución temporal de una enfermedad considerando solamente 3 posibles estados para los individuos:\n",
        "\n",
        "* **S(t)**: Representa a los individuos **Suceptibles**, es decir aquellas personas que pueden ser infectadas al entrar en contacto con la enfermedad.\n",
        "\n",
        "* **I(t)**: Representa a los individuos **Infectados**, es decir aquellas personas portadoras de la enfermedad y que pueden contagiar a personas del grupo **S**.\n",
        "\n",
        "* **R(t)**: Representa a los individuos **Recobrados**, es decir aquellas personas que ya fueron infectadas y se recobraron, es decir, que no estan en condiciones de transmitir la enfermedad ni de enfermarse nuevamente.\n",
        "\n",
        "Las transiciones entre los grupos esta definidad de la siguiente manera:\n",
        "\n",
        "$$ S \\rightarrow I \\rightarrow R$$\n",
        "\n",
        "Una persona primero es suceptible a la enfermedad **S** luego se infecta **I** y por último, se recobra **R**.\n",
        "La tasa de transmisión esta determinada por la constante $\\beta$, la de recuperación por la constante $\\gamma$.\n",
        " \n",
        "Dada una población fija, $ N = S(t)+ I(t) + R(t) $, las 3 ecuaciones diferenciales presentadas a continuación, describen el modelo:\n",
        "\n",
        "$$ \\frac{dS}{dt}= -\\beta S(t)I(t) $$\n",
        "\n",
        "$$ \\frac{dI}{dt}= \\beta S(t)I(t) - \\gamma I(t)$$\n",
        "\n",
        "$$ \\frac{dR}{dt}=  \\gamma I(t)$$\n",
        "\n",
        "En esta ocasión, nuestra tarea es:\n",
        "\n",
        "* Crear nuestra propia implementación en Python del *modelo SIR* usando las ecuaciones diferenciales presentadas anteriormente para un período de tiempo de 100 dias.\n",
        "* Ilustrar gráficamente la evolución de **S**, **I**, **T** en función del tiempo.\n",
        "\n",
        "Existen varias maneras de realizar esto. Por ahora, pondremos en práctica los conocimientos aprendidos en **introducción a python**, **pensamiento algorítmico** así como las librerías **numpy** y **matplotlib**.\n"
      ]
    },
    {
      "cell_type": "markdown",
      "metadata": {
        "id": "1r5C270ppPzS"
      },
      "source": [
        "Empezemos por cargar las librerías que usaremos:"
      ]
    },
    {
      "cell_type": "markdown",
      "metadata": {
        "ExecuteTime": {
          "end_time": "2021-08-22T22:39:22.000101Z",
          "start_time": "2021-08-22T22:39:21.995242Z"
        },
        "id": "1lenw6bYMA_E"
      },
      "source": [
        "<div class=\"alert alert-block alert-info\">\n",
        "\n",
        "**Objetivo** : Importa las siguientes librerías y funciones\n",
        "    \n",
        "1. NumPy con pseudónimo np\n",
        "2. La función odeint de scipy.integrate\n",
        "3. Matplotlib.pyplot con pseudónimo plt\n",
        "\n",
        "</div>\n",
        " "
      ]
    },
    {
      "cell_type": "code",
      "metadata": {
        "ExecuteTime": {
          "end_time": "2021-08-22T22:23:25.930428Z",
          "start_time": "2021-08-22T22:23:24.983408Z"
        },
        "id": "GQCcnfjrpc5R"
      },
      "source": [
        "#Puedes ayudarte con los siguientes comandos\n",
        "import numpy as np\n",
        "from scipy.integrate import odeint \n",
        "import matplotlib.pyplot as plt\n"
      ],
      "execution_count": null,
      "outputs": []
    },
    {
      "cell_type": "markdown",
      "metadata": {
        "ExecuteTime": {
          "end_time": "2021-08-22T22:39:22.000101Z",
          "start_time": "2021-08-22T22:39:21.995242Z"
        },
        "id": "s0jh6XxTMA_G"
      },
      "source": [
        "<div class=\"alert alert-block alert-info\">\n",
        "\n",
        "**Objetivo** : Define los parámetros iniciales\n",
        "    \n",
        "*   Población total **N=1000**\n",
        "*   Número inicial de personas infectadas **I0=1**\n",
        "*   Número inicial de individuos recuperados **R0=0**\n",
        "*   Número inicial de personas susceptibles **S0= N - I0 - R0**\n",
        "*   La tasa de contacto esta definida por la constante $\\beta=0.2$\n",
        "*   La tasa de recuperación esta definida por la constante $\\gamma= 1./10$ \n",
        "\n",
        "</div>\n",
        " "
      ]
    },
    {
      "cell_type": "code",
      "metadata": {
        "ExecuteTime": {
          "end_time": "2021-08-22T22:23:25.934850Z",
          "start_time": "2021-08-22T22:23:25.932181Z"
        },
        "id": "tyevvSANPxrb"
      },
      "source": [
        "#Copia la informacion dada anteriormente en tu codigo, solo necesitas asignar un nombre a tu variable o parametro inicial\n",
        "\n",
        "N=1000 \n",
        "I0,R0=1,0 #Número inicial de personas infectadas y número inicial de individuos recuperados\n",
        "S0= N - I0 - R0 #Número inicial de personas susceptibles\n",
        "# Se pueden escribir dos parametros iniciales separados por una coma al momento de definirlos.\n",
        "\n",
        "B,G = 0.2, 1./10 #tasa de contacto y tasa de recueperacion\n",
        "\n",
        "# No olvides comentar tu codigo para saber que nombre representa que variable/parametro inicial"
      ],
      "execution_count": null,
      "outputs": []
    },
    {
      "cell_type": "markdown",
      "metadata": {
        "id": "MlWCzJysRooT"
      },
      "source": [
        "Ahora que definimos todos los parámetros iniciales, es necesario definir t, para describir la evolución temporal de la función. En este caso utilizamos la función np.linspace que produce un array con **Num** cantidad de puntos entre los valores **start** y **stop**."
      ]
    },
    {
      "cell_type": "code",
      "metadata": {
        "ExecuteTime": {
          "end_time": "2021-08-22T22:23:25.942518Z",
          "start_time": "2021-08-22T22:23:25.936892Z"
        },
        "id": "gxU_knRcxabz"
      },
      "source": [
        "# Los argumentos de la funcion linspace son (start, stop, num) donde esto se traduce como t inicial, t final, num de puntos\n",
        "# Para que sea entendible no solo para la computadora sino para personas, puedes definir variables con nombres por ejemplo\n",
        "# Crea un parametro llamado Total_dias y usalo en el campo stop.\n",
        "Total_dias = 160\n",
        "TO=0 # tiempo inicial\n",
        "Num= 160 # si colocamos el mismo numero que en el parametro anterior tendremos un punto de datos cada dia\n",
        "\n",
        "# Inicializamos el array 1D:\n",
        "\n",
        "# recuerda sustituir los argumentos por tus variables.\n",
        "t = np.linspace(TO, Total_dias, Num)"
      ],
      "execution_count": null,
      "outputs": []
    },
    {
      "cell_type": "markdown",
      "metadata": {
        "id": "VTvEucIs0et5"
      },
      "source": [
        "El modelo SIR esta representado por un sistema de ecuaciones diferenciales. Para resolverlo es necesario definir las funciones del modelo (como vector) y el vector de condiciones iniciales de la siguiente manera:\n",
        "\n",
        "\\begin{equation}\n",
        "\\vec{Y}(t) =  \\begin{bmatrix}\n",
        "           S \\\\\n",
        "           I \\\\\n",
        "           R\n",
        "         \\end{bmatrix}\n",
        "\\end{equation}        \n",
        "\n",
        "\\begin{equation}\n",
        " \\vec{f}(t, \\vec{Y}) =  \\begin{bmatrix}\n",
        "           \\frac{\\text{d}S}{\\text{d} T} = -\\beta S(t)I(t) \\\\\n",
        "           \\frac{\\text{d}I}{\\text{d} T} = \\beta S(t)I(t) - \\gamma I(t)\\\\\n",
        "           \\frac{\\text{d}R}{\\text{d} T} = \\gamma I(t)\n",
        "         \\end{bmatrix} \n",
        "\\end{equation}    \n",
        "\n",
        "\\begin{equation}\n",
        " \\vec{Y}(t_o) =  \\begin{bmatrix}\n",
        "           S(t_o) = S0 \\\\\n",
        "           I(t_o) = I0\\\\\n",
        "           R(t_o) = R0\n",
        "         \\end{bmatrix} \n",
        "\\end{equation}"
      ]
    },
    {
      "cell_type": "code",
      "metadata": {
        "ExecuteTime": {
          "end_time": "2021-08-22T22:23:25.952405Z",
          "start_time": "2021-08-22T22:23:25.947758Z"
        },
        "id": "gBTAU3wC0yPB"
      },
      "source": [
        "# En vez de resolver todo en el codigo definimos aparte la funcion Y\n",
        "def Y ( y,t, N, B,G ): #primero definimos la funcion a resolver y la variable independiente, luego colocamos las constantes\n",
        "    #Escribir los 3 vectores aqui \n",
        "    S ,I ,R=y\n",
        "    #El primero por Y= S, I, R con cada coordenada separada por una coma\n",
        "    \n",
        "    #Las funciones cada una en una linea de codigo diferente\n",
        "    \n",
        "    dS=-B*S*I/N\n",
        "    dI=B*S*I/N -G*I\n",
        "    dR=G*I\n",
        "    # utilizamos el comando return para que nos devuelva un vector con las funciones como coordenadas (separadas por una coma)\n",
        "    \n",
        "    return dS, dI, dR\n",
        "\n",
        "# Ahora hacemos un vector con las condiciones iniciales definidas al principio (este es el ultimo vector del bloque de texto, se define como el primero)\n",
        "y0 = S0, I0, R0"
      ],
      "execution_count": null,
      "outputs": []
    },
    {
      "cell_type": "markdown",
      "metadata": {
        "id": "CoeFdgGPxjOZ"
      },
      "source": [
        "¡Lo único que queda por hacer es resolver las ecuaciones diferenciales! pero esto lo podemos hacer automáticamente con la función ***scipy.integrate.odeint** or ***scipy.integrate.solve_ivp**, esta función ya la importamos al comienzo.\n"
      ]
    },
    {
      "cell_type": "code",
      "metadata": {
        "ExecuteTime": {
          "end_time": "2021-08-22T22:23:25.963238Z",
          "start_time": "2021-08-22T22:23:25.953791Z"
        },
        "id": "xpaIPlV9yi2C"
      },
      "source": [
        "ret = odeint(Y, y0, t,args=(N, B, G) )\n",
        "S, I, R = ret.T#Esto es solo un ejemplo, como dzdX es la derivada, llamamos Z a la solucion que es la integral"
      ],
      "execution_count": null,
      "outputs": []
    },
    {
      "cell_type": "markdown",
      "metadata": {
        "id": "S72Tw0LTzEgK"
      },
      "source": [
        "Ahora hacemos los gráficos y ¡listo!"
      ]
    },
    {
      "cell_type": "code",
      "metadata": {
        "ExecuteTime": {
          "end_time": "2021-08-22T22:23:26.297167Z",
          "start_time": "2021-08-22T22:23:25.965854Z"
        },
        "colab": {
          "base_uri": "https://localhost:8080/",
          "height": 280
        },
        "id": "yKJIheeYW-_y",
        "outputId": "5f206237-0754-4502-c4f3-ffae293e359e"
      },
      "source": [
        "fig = plt.figure(facecolor='w')\n",
        "ax = fig.add_subplot(111, facecolor='#dddddd', axisbelow=True)\n",
        "\n",
        "ax.plot(t, S/1000, 'b', alpha=0.5, lw=2, label='Susceptible') #Variable Z vs t\n",
        "ax.plot(t, I/1000, 'r', alpha=0.5, lw=2, label='Infected') # Variable ZZ vs t\n",
        "ax.plot(t, R/1000, 'g', alpha=0.5, lw=2, label='Recovered with immunity') #Variable ZZZ vs t\n",
        "\n",
        "ax.set_xlabel('Time /days') #titulo del eje X\n",
        "ax.set_ylabel('Number (1000s)') #titulo eje y\n",
        "ax.set_ylim(0,1.2) #min z max del eje Y\n",
        "ax.yaxis.set_tick_params(length=0)\n",
        "ax.xaxis.set_tick_params(length=0)\n",
        "ax.grid(b=True, which='major', c='w', lw=2, ls='-')\n",
        "\n",
        "legend = ax.legend()\n",
        "legend.get_frame().set_alpha(0.5)\n",
        "\n",
        "for spine in ('top', 'right', 'bottom', 'left'): \n",
        "    ax.spines[spine].set_visible(False)\n",
        "    \n",
        "plt.show()"
      ],
      "execution_count": null,
      "outputs": [
        {
          "output_type": "display_data",
          "data": {
            "image/png": "[encoded data removed]",
            "text/plain": [
              "<Figure size 432x288 with 1 Axes>"
            ]
          },
          "metadata": {}
        }
      ]
    },
    {
      "cell_type": "markdown",
      "metadata": {
        "id": "GOItd1bcMA_M"
      },
      "source": [
        "# Modelo SEIR"
      ]
    },
    {
      "cell_type": "markdown",
      "metadata": {
        "id": "MN9weQsyT4Nq"
      },
      "source": [
        "El modelo SEIR divide la población en 4 categorías en vez de 3. \n",
        "Las definiciones de los grupos **S**, **I**, **R** permanecen como en la sección anterior, la diferencia es que se introduce un nuevo grupo **E** el cual representa las personas expuestas, las cuales son portadores de la enfermedad pero no presentan síntomas. En este caso la transición de un grupo a otro esta dada por:\n",
        "\n",
        "$ S \\rightarrow E \\rightarrow I \\rightarrow R$\n",
        "\n",
        "Una persona primero es suceptible a la enfermedad **S** luego se contagia y se encuentra en período de incubación asociado con su respectiva tasa $\\alpha$ pasando al grupo de personas expuestas **E** antes de infectarse y pasar al grupo **I** y por último, se recobra **R**.\n",
        " \n",
        "Es posible agregar al modelo las tasas de natalidad $\\nu$ y mortalidad $\\mu$. En este caso, la población total **N** no es constante $ N(t) = S(t)+ E(t) + I(t) + R(t) $. En vez de tener 3 ecuaciones diferenciales tenemos 4:\n",
        "\n",
        "$ \\frac{dS}{dt}= -\\beta S(t)I(t) + \\nu N(t) - \\mu S(t) $\n",
        "\n",
        "$ \\frac{dE}{dt}= \\beta S(t)I(t) - \\alpha E(t) - \\mu E(t)$\n",
        "\n",
        "$ \\frac{dI}{dt}= \\alpha E(t) - \\gamma I(t) -\\mu I(t)$\n",
        "\n",
        "$ \\frac{dR}{dt}=  \\gamma I(t) - \\mu R(t)$\n",
        "\n",
        "En esta ocasión, nuestra tarea es:\n",
        "\n",
        "* Modificar la implementación en Python del *modelo SIER* usando las ecuaciones diferenciales presentadas anteriormente para un período de tiempo de 100 dias.\n",
        "* Ilustrar gráficamente la evolución de **S**, **I**, **E**, **R**, **N** en función del tiempo.\n",
        "\n",
        "Procedemos de la misma manera que con el ejercicio anterior, ya que las funciones y librerías a ser utilizadas son las mismas:"
      ]
    },
    {
      "cell_type": "code",
      "metadata": {
        "ExecuteTime": {
          "end_time": "2021-08-22T22:23:26.300617Z",
          "start_time": "2021-08-22T22:23:26.298554Z"
        },
        "id": "K97vbo7GafS2"
      },
      "source": [
        "import numpy as np\n",
        "from scipy.integrate import odeint \n",
        "import matplotlib.pyplot as plt"
      ],
      "execution_count": null,
      "outputs": []
    },
    {
      "cell_type": "markdown",
      "metadata": {
        "ExecuteTime": {
          "end_time": "2021-08-22T22:39:22.000101Z",
          "start_time": "2021-08-22T22:39:21.995242Z"
        },
        "id": "-tO4zfGnMA_N"
      },
      "source": [
        "<div class=\"alert alert-block alert-info\">\n",
        "\n",
        "**Objetivo** : Repetir\n",
        "    \n",
        "Hay que repetir los pasos realizados durante el caso de modelo SIR ahora en el modelo SEIR.\n",
        "\n",
        "</div>\n",
        " "
      ]
    },
    {
      "cell_type": "markdown",
      "metadata": {
        "id": "x9AqT2KPReUp"
      },
      "source": [
        "Definimos las nuevas constantes presentes en el nuevo set de ecuaciones, las cuales son:\n",
        "\n",
        "- tasa de infección: $\\beta$ \n",
        "\n",
        "- tasa de recuperación: $\\gamma$\n",
        "\n",
        "- tasa de mortalidad: $ \\mu$\n",
        "\n",
        "- tasa de natalidad: $ \\nu $\n",
        "\n",
        "- tasa de incubación: $ \\alpha_1$\n",
        "\n",
        "Además, definimos una población inicial de N=1000, así como el número inicial de personas expuestas **E0=0**, infectadas **I0=1** y recuperadas **R0=0**. Todas las demas personas pertenecen al grupo suceptible: **S0= N - E0 - I0 - R0**\n",
        "\n",
        "Finalmente, definimos el grid que en este caso es el eje X el cual consiste en los dias. "
      ]
    },
    {
      "cell_type": "code",
      "metadata": {
        "ExecuteTime": {
          "end_time": "2021-08-22T22:23:26.309146Z",
          "start_time": "2021-08-22T22:23:26.302663Z"
        },
        "id": "XU2BfH05Rz_5"
      },
      "source": [
        "#Definimos las nuevas constantes:\n",
        "## tasa de infeccion, recuperacion, mortalidad, natalidad, incubacion\n",
        "B,G,M,V,A=1.64,0.65,0.07,0.1,0.2\n",
        "\n",
        "N0=1000 \n",
        "I0,R0,E0=1,0,0 #Número inicial de personas infectadas, número inicial de individuos recuperados y numero inicial de personasexpuestas\n",
        "S0= N -E0- I0 - R0 #Número inicial de personas susceptibles\n",
        "#Condiciones iniciales:\n",
        "## Poblacion inicial N.\n",
        "## Numero inicial de personas infectadas y recuperadas , I0 and R0.\n",
        "## Todos los demas, S0, pertenecen a la poblacion suceptible.\n",
        "## Tiempo, puntos de datos (in days)\n",
        "Tamano_grid = 160\n",
        "Step = 160\n",
        "t = np.linspace(1, Tamano_grid, Step)"
      ],
      "execution_count": null,
      "outputs": []
    },
    {
      "cell_type": "markdown",
      "metadata": {
        "id": "5H8aJgmfS8Kn"
      },
      "source": [
        "Ahora, después de definir todas las constantes y condiciones iniciales, construimos una función la cual engloba todas las ecuaciones diferenciales del modelo SEIR presentado anteriormente. En el argumento de la función se define primero y, t, luego todas las constantes. No importa que ahora sean 4 ecuaciones en vez de 3."
      ]
    },
    {
      "cell_type": "code",
      "metadata": {
        "ExecuteTime": {
          "end_time": "2021-08-22T22:23:26.317669Z",
          "start_time": "2021-08-22T22:23:26.313749Z"
        },
        "id": "vUI9NSMkTnwx"
      },
      "source": [
        "#Definimos la funcion:\n",
        "# Ecuaciones diferenciales del Modelo SIER.\n",
        "def Z(z, t,N0,B,A,G,V,M):\n",
        "  S, E, I, R = z\n",
        "  \n",
        "  dSdt = -B*S*I/N0 + V*N-M*S\n",
        "  dEdt = B*S*I/N0 - A*E-M*E\n",
        "  dIdt = A*E - G*I-M*I\n",
        "  dRdt = G*I-M*R\n",
        "  return [dSdt, dEdt, dIdt, dRdt]"
      ],
      "execution_count": null,
      "outputs": []
    },
    {
      "cell_type": "markdown",
      "metadata": {
        "id": "yalTNQIcToxm"
      },
      "source": [
        "Ahora construimos el vector de condiciones iniciales y \"llamamos\" a la función, cuyo resultado decidimos nombrar **ret** para obtener las integrales de **dSdt, dEdt, dIdt, dRdt** en función del tiempo."
      ]
    },
    {
      "cell_type": "code",
      "metadata": {
        "ExecuteTime": {
          "end_time": "2021-08-22T22:23:26.331827Z",
          "start_time": "2021-08-22T22:23:26.319042Z"
        },
        "id": "VACurVPzUBP5"
      },
      "source": [
        "# Vector de conditiones iniciales\n",
        "y0 =S0,E0,I0,R0\n",
        "\n",
        "# Integracion de las ecuaciones SIER en funcion del tiempo.\n",
        "ret = odeint(Z, y0, t, args=(N0,B,A,V,M,G))\n",
        "S, E, I, R=ret.T "
      ],
      "execution_count": null,
      "outputs": []
    },
    {
      "cell_type": "markdown",
      "metadata": {
        "id": "yzrC1bzpUCkR"
      },
      "source": [
        "Finalmente hacemos el gráfico y ¡listo!\n",
        "\n"
      ]
    },
    {
      "cell_type": "code",
      "metadata": {
        "ExecuteTime": {
          "end_time": "2021-08-22T22:23:26.701809Z",
          "start_time": "2021-08-22T22:23:26.335699Z"
        },
        "colab": {
          "base_uri": "https://localhost:8080/",
          "height": 280
        },
        "id": "ApGmeeBoUpfo",
        "outputId": "a484930d-b0e5-4f81-8513-41b38c9345b8"
      },
      "source": [
        "# Plot de los 5 grupos en curvas separadas\n",
        "fig = plt.figure(facecolor='w')\n",
        "ax = fig.add_subplot(111, facecolor='#dddddd', axisbelow=True)\n",
        "\n",
        "ax.plot(t, S/1000, 'b', alpha=0.5, lw=2, label='Susceptible')\n",
        "ax.plot(t, E/1000, 'g', alpha=0.5, lw=2, label='Exposed')\n",
        "ax.plot(t, I/1000, 'r', alpha=0.5, lw=2, label='Infected')\n",
        "ax.plot(t, R/1000, 'm', alpha=0.5, lw=2, label='Recovered with immunity')\n",
        "ax.plot(t, (S+E+I+R)/1000, 'k', alpha=0.5, lw=2, label='Population')\n",
        "\n",
        "ax.set_xlabel('Time /days')\n",
        "ax.set_ylabel('Number (1000s)')\n",
        "ax.set_ylim(0,1.2)\n",
        "\n",
        "ax.yaxis.set_tick_params(length=0)\n",
        "ax.xaxis.set_tick_params(length=0)\n",
        "ax.grid(b=True, which='major', c='w', lw=2, ls='-')\n",
        "\n",
        "legend = ax.legend()\n",
        "legend.get_frame().set_alpha(0.5)\n",
        "\n",
        "for spine in ('top', 'right', 'bottom', 'left'):\n",
        "    ax.spines[spine].set_visible(False)\n",
        "    \n",
        "plt.show()"
      ],
      "execution_count": null,
      "outputs": [
        {
          "output_type": "display_data",
          "data": {
            "image/png": "[encoded data removed]",
            "text/plain": [
              "<Figure size 432x288 with 1 Axes>"
            ]
          },
          "metadata": {}
        }
      ]
    },
    {
      "cell_type": "markdown",
      "metadata": {
        "id": "SpYQStheMA_Q"
      },
      "source": [
        "# Comentario final"
      ]
    },
    {
      "cell_type": "code",
      "metadata": {
        "ExecuteTime": {
          "end_time": "2021-08-22T22:23:26.720577Z",
          "start_time": "2021-08-22T22:23:26.706216Z"
        },
        "id": "1tX6B9k5MA_Q",
        "colab": {
          "base_uri": "https://localhost:8080/"
        },
        "outputId": "c6383ed3-a094-4939-8dbb-d4457bdb7704"
      },
      "source": [
        "#libs summary\n",
        "import types\n",
        "def imports():\n",
        "    for name, val in globals().items():\n",
        "        if isinstance(val, types.ModuleType):\n",
        "            yield val.__name__\n",
        "list(imports())"
      ],
      "execution_count": null,
      "outputs": [
        {
          "output_type": "execute_result",
          "data": {
            "text/plain": [
              "['builtins',\n",
              " 'builtins',\n",
              " 'IPython.core.shadowns',\n",
              " 'numpy',\n",
              " 'matplotlib.pyplot',\n",
              " 'types']"
            ]
          },
          "metadata": {},
          "execution_count": 36
        }
      ]
    },
    {
      "cell_type": "markdown",
      "metadata": {
        "id": "vSbEEihYMA_R"
      },
      "source": [
        "**Autor**: M.T.Barrera\n",
        "\n",
        "**Colaborador**: A. Figueroa, M. Morgado\n",
        "\n",
        "**Fecha**: Agosto 2021"
      ]
    }
  ]
}
