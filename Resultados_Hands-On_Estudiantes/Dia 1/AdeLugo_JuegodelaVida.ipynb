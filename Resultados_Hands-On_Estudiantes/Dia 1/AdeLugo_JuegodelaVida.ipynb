{
  "nbformat": 4,
  "nbformat_minor": 0,
  "metadata": {
    "colab": {
      "name": "Untitled0.ipynb",
      "provenance": [],
      "authorship_tag": "ABX9TyNJo8jxP4v7yV7alkD6SrkY",
      "include_colab_link": true
    },
    "kernelspec": {
      "name": "python3",
      "display_name": "Python 3"
    },
    "language_info": {
      "name": "python"
    }
  },
  "cells": [
    {
      "cell_type": "markdown",
      "metadata": {
        "id": "view-in-github",
        "colab_type": "text"
      },
      "source": [
        "<a href=\"https://colab.research.google.com/github/COFAlumni-USB/Physics-REBoot-Applied-Science-Bootcamp/blob/main/Resultados_Hands-On_Estudiantes/Dia%201/AdeLugo_JuegodelaVida.ipynb\" target=\"_parent\"><img src=\"https://colab.research.google.com/assets/colab-badge.svg\" alt=\"Open In Colab\"/></a>"
      ]
    },
    {
      "cell_type": "code",
      "metadata": {
        "colab": {
          "base_uri": "https://localhost:8080/",
          "height": 937
        },
        "id": "ln7ge-bp9Gmi",
        "outputId": "9206192f-ee86-4cab-881b-7d885a19857d"
      },
      "source": [
        "\n",
        "\n",
        "\n",
        "import numpy as np\n",
        "import matplotlib.pyplot as plt\n",
        "import matplotlib.animation as animation\n",
        "from IPython.display import HTML, Image\n",
        "\n",
        "\n",
        "\n",
        "# Crear array 2D con casillas aleatorias entre 0 y 1\n",
        "\n",
        "x=20\n",
        "y=20\n",
        "\n",
        "campo = np.random.randint(0,2, size=(x,y))\n",
        "\n",
        "\n",
        "\n",
        "# Array del juego inicial\n",
        "print(campo)\n",
        "\n",
        "\n",
        "#In [229]:\n",
        "\n",
        "# Definición del juego\n",
        "\n",
        "def game(campo):\n",
        "    campo1=np.zeros((x,y)) # array a llenar\n",
        "    for i in range(x):\n",
        "        for j in range(x):\n",
        "            # Vecinos lineales\n",
        "            vecinos1 = campo[np.mod(i+1,x),j]+campo[np.mod(i-1,x),j]+campo[i,np.mod(j+1,x)]+campo[i,np.mod(j-1,x)]\n",
        "            # Vecinos diagonales\n",
        "            vecinos2 = campo[np.mod(i-1,x),np.mod(j-1,x)]+campo[np.mod(i-1,x),np.mod(j+1,x)]+campo[np.mod(i+1,x),np.mod(j-1,x)]+campo[np.mod(i+1,x),np.mod(j+1,x)]\n",
        "            # número total de vecinos\n",
        "            vecinos = vecinos1 + vecinos2\n",
        "            if campo[i,j]==1:\n",
        "                if vecinos ==2 or vecinos ==3:\n",
        "                    campo1[i,j]=1\n",
        "                else:\n",
        "                    campo1[i,j]=0\n",
        "            elif vecinos == 3:\n",
        "                campo1[i,j]=1      \n",
        "            else:\n",
        "                campo1[i,j]=0  \n",
        "            campo[i,j] = campo1[i,j] # escritura en el array vacío\n",
        "    return campo\n",
        "\n",
        "#In [233]:\n",
        "\n",
        "# Comprobar cada paso del juego\n",
        "game(campo)\n",
        "\n",
        "\n",
        "#In [234]:\n",
        "\n",
        "# Graficar cada paso del juego\n",
        "plt.figure()\n",
        "plt.imshow(campo)\n",
        "\n",
        "\n",
        "\n",
        "#In [237]:\n",
        "\n",
        "# Crear animación\n",
        "\n",
        "def Animar(i):\n",
        "    game(campo)\n",
        "    ax1.clear()\n",
        "    ax1.imshow(campo)\n",
        "    plt.suptitle('Generación N.{}'.format(i))\n",
        "    \n",
        "fig = plt.figure()\n",
        "ax1 = fig.add_subplot()\n",
        "animate = animation.FuncAnimation(fig, Animar, interval = 200, frames = 300)\n",
        "\n",
        "animate.save('Juego_de_la_Vida.gif', writer='pillow', fps=60)\n",
        "Image(url='Juego_de_la_Vida.gif')\n",
        "\n",
        "\n",
        "\n",
        "\n"
      ],
      "execution_count": 5,
      "outputs": [
        {
          "output_type": "stream",
          "name": "stdout",
          "text": [
            "[[0 1 0 0 1 1 1 0 0 1 1 1 1 1 1 1 0 1 1 1]\n",
            " [1 0 0 0 0 0 1 1 1 1 1 1 0 1 1 0 1 0 0 0]\n",
            " [0 0 0 0 1 0 0 0 1 1 1 1 1 1 1 0 1 0 1 1]\n",
            " [1 1 1 1 1 0 1 0 0 1 0 1 0 1 0 0 1 1 1 0]\n",
            " [0 1 1 0 0 0 0 1 0 0 1 0 1 0 1 1 0 0 1 0]\n",
            " [1 1 1 0 1 1 1 0 1 1 0 0 1 1 1 0 0 1 0 0]\n",
            " [0 1 1 0 1 0 0 0 0 0 1 0 0 0 1 0 1 1 0 1]\n",
            " [0 1 1 1 1 1 1 0 0 0 1 1 0 0 1 0 1 1 1 1]\n",
            " [0 1 0 1 1 1 1 0 0 1 1 0 0 0 0 1 0 0 0 0]\n",
            " [0 0 1 1 0 1 0 0 0 1 0 1 0 1 0 1 0 1 1 0]\n",
            " [1 0 0 0 1 1 0 1 0 0 0 0 1 1 1 0 0 0 0 0]\n",
            " [1 0 1 1 0 0 1 0 1 0 0 1 1 1 1 1 1 1 1 1]\n",
            " [0 1 1 1 1 1 0 1 0 0 0 1 1 0 1 1 1 1 1 0]\n",
            " [0 0 0 1 0 0 0 0 1 0 1 0 1 1 1 1 0 0 0 1]\n",
            " [1 0 1 1 0 1 0 1 1 1 0 0 1 1 1 0 1 1 1 1]\n",
            " [1 0 0 0 0 0 0 0 1 0 0 1 1 0 0 0 1 0 0 0]\n",
            " [1 1 0 0 1 0 1 1 1 0 1 0 0 0 1 0 0 0 0 1]\n",
            " [0 1 0 1 1 1 0 0 1 0 1 1 1 0 0 1 0 1 0 0]\n",
            " [1 1 0 1 1 1 1 0 0 1 1 1 1 1 1 1 1 0 0 0]\n",
            " [0 0 1 0 0 1 0 0 0 0 0 1 0 0 0 0 0 1 1 0]]\n"
          ]
        },
        {
          "output_type": "execute_result",
          "data": {
            "text/html": [
              "<img src=\"Juego_de_la_Vida.gif\"/>"
            ],
            "text/plain": [
              "<IPython.core.display.Image object>"
            ]
          },
          "metadata": {},
          "execution_count": 5
        },
        {
          "output_type": "display_data",
          "data": {
            "image/png": "[encoded data removed]",
            "text/plain": [
              "<Figure size 432x288 with 1 Axes>"
            ]
          },
          "metadata": {
            "needs_background": "light"
          }
        },
        {
          "output_type": "display_data",
          "data": {
            "image/png": "[encoded data removed]",
            "text/plain": [
              "<Figure size 432x288 with 1 Axes>"
            ]
          },
          "metadata": {
            "needs_background": "light"
          }
        }
      ]
    }
  ]
}