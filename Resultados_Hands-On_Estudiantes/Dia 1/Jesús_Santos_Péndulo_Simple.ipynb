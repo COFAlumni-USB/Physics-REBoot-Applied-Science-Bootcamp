import numpy as np #NumPy paquete de computo cientifico, permite hacer arrays y tambien tiene constantes y funciones
from scipy.integrate import solve_ivp
#Integracion numerica de un sistema de ecuaciones ordinarias con condiciones iniciales Solve_ivp
import matplotlib as ml
from matplotlib import pyplot as plt



# definir ecucacion de movimiento del pendulo como funcion
def f(t, X):
    theta, omega = X
    g =  9.8 # [m/s^2] 
    l =  0.5 #[m]
    m =  5.0 #[Kg]

# Velocidad Angular, entrada 1 del vector X

    dthetadt = X[1] 
    domegadt = -m * g * np.sin(X[0]) / l

    return dthetadt,domegadt #(derivada de X[0], derivada de X[1]), (Velocidad Angular, Aceleracion)

t = np.linspace(0, 100, 101)
X0 = [np.pi/2, 0] #Condiciones Iniciales en forma de vector [ , ]
results = solve_ivp(f,t,X0, rtol=1e-8) #funcion, intervalo de tiempo (t0, tf), vector condiciones iniciales, sensitividad?

#Finalmente se grafica

fig = plt.figure()
ax1 = fig.add_subplot(1,2,1)
ax1.plot(results.t, results.y[0]) #Entrada 0 del vector X
ax1.set_ylabel('Posición Angular',fontweight='bold')
ax1.set_xlabel('Tiempo (s)',fontweight='bold')
ax1.grid()
ax2 = fig.add_subplot(1,2,2)
ax2.plot(results.t, results.y[1]) #Entrada 1 del vector X
ax2.set_ylabel('Velocidad Angular', fontweight='bold')
ax2.set_xlabel('Tiempo (s)',fontweight='bold')
ax2.grid()
plt.tight_layout()
