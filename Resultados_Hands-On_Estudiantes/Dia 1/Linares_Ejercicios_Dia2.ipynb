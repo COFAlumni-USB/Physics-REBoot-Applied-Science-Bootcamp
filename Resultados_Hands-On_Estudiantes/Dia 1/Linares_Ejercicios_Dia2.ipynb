{
 "cells": [
  {
   "cell_type": "markdown",
   "metadata": {},
   "source": [
    "# **Actividad hands-on de Probabilidad y Estadística.**"
   ]
  },
  {
   "cell_type": "markdown",
   "metadata": {},
   "source": [
    "**Ejercicio 1:**\n",
    "\n",
    "Calcula la integral de la siguiente función: $f(x)=x$ de 0 a 1.\n",
    "\n",
    "Usa dos métodos para resolver la integral. El primer método es de forma numérica como una sumatoria, y el segundo método es usando una función de las librerías de Python.\n"
   ]
  },
  {
   "cell_type": "markdown",
   "metadata": {},
   "source": [
    "### Primer método"
   ]
  },
  {
   "cell_type": "code",
   "execution_count": 1,
   "metadata": {
    "colab": {
     "base_uri": "https://localhost:8080/"
    },
    "executionInfo": {
     "elapsed": 245,
     "status": "ok",
     "timestamp": 1630435566019,
     "user": {
      "displayName": "Gaby Linares",
      "photoUrl": "",
      "userId": "14145243751681114020"
     },
     "user_tz": 180
    },
    "id": "3xrfZj5LITR1",
    "outputId": "46fc88be-f662-47e3-df1d-e27fc4a64988"
   },
   "outputs": [
    {
     "name": "stdout",
     "output_type": "stream",
     "text": [
      "La integral de f(x) = x con el primer método es:  0.49995\n"
     ]
    }
   ],
   "source": [
    "# Se define la función a integrar:\n",
    "\n",
    "def f(x):\n",
    "  return x\n",
    "\n",
    "# Se crean las variables necesarias\n",
    "\n",
    "dx = 0.0001    # Tamaño del diferencial\n",
    "n = 1          # Número de veces que se realiza la suma\n",
    "suma = 0       # Representa el valor de la integral\n",
    "a = dx         # Parámetro sobre el que se realiza la suma, hasta alcanzar el límite superior\n",
    "\n",
    "\n",
    "while a < 1.:  # El término a sumar es menor que el límite superior\n",
    "    suma = suma + f(a) * dx\n",
    "    n = n + 1\n",
    "    a = n * dx\n",
    "\n",
    "\n",
    "print('La integral de f(x) = x con el primer método es: ', round(suma,6))"
   ]
  },
  {
   "cell_type": "markdown",
   "metadata": {},
   "source": [
    "### Segundo método"
   ]
  },
  {
   "cell_type": "code",
   "execution_count": 2,
   "metadata": {},
   "outputs": [
    {
     "name": "stdout",
     "output_type": "stream",
     "text": [
      "La integral de f(x) = x con el segundo método es: 0.5\n"
     ]
    }
   ],
   "source": [
    "# Importando las librerías\n",
    "from scipy import integrate\n",
    "\n",
    "# Integrando\n",
    "integral, error_f = integrate.quad(f, 0, 1)\n",
    "\n",
    "print('La integral de f(x) = x con el segundo método es:', integral)"
   ]
  },
  {
   "cell_type": "markdown",
   "metadata": {
    "id": "phCitFl_jJ-t"
   },
   "source": [
    "**Ejercicio 2:**\n",
    "\n",
    "La masa de una partícula tiene una distribución normalizada dada por la función:\n",
    "\n",
    "$m(x) = a e^{-a x}$\n",
    "\n",
    "donde x es una variable, $a=1/3$, y el dominio de la funcion es $x>0$.\n",
    "\n",
    "¿Cuál es la probabilidad de que la partícula tenga una masa mayor que 5?"
   ]
  },
  {
   "cell_type": "code",
   "execution_count": 3,
   "metadata": {
    "colab": {
     "base_uri": "https://localhost:8080/"
    },
    "executionInfo": {
     "elapsed": 416,
     "status": "ok",
     "timestamp": 1630436156091,
     "user": {
      "displayName": "Gaby Linares",
      "photoUrl": "",
      "userId": "14145243751681114020"
     },
     "user_tz": 180
    },
    "id": "dtv172cOjFPA",
    "outputId": "88e69c70-cddd-40e5-b4d8-d60fe74e1b6e"
   },
   "outputs": [
    {
     "name": "stdout",
     "output_type": "stream",
     "text": [
      "La probabilidad de que la partícula tenga una masa mayor que 5 es:  0.1888756028375619\n"
     ]
    }
   ],
   "source": [
    "# Importando las librerías\n",
    "import math\n",
    "from numpy.core.numeric import Infinity\n",
    "\n",
    "# Se define la función de masa m(x)\n",
    "a = 1 / 3\n",
    "\n",
    "def m(x):\n",
    "  return a * math.exp(-a * x)\n",
    "\n",
    "# Integrando\n",
    "probabilidad, error_m = integrate.quad(m, 5, Infinity)\n",
    "\n",
    "print('La probabilidad de que la partícula tenga una masa mayor que 5 es: ', probabilidad)"
   ]
  },
  {
   "cell_type": "markdown",
   "metadata": {
    "id": "S9vQcueAjHg1"
   },
   "source": [
    "**Ejercicio 3:**\n",
    "\n",
    "Una distribución Gaussiana centrada en $\\mu$ y con desviación estándar $\\sigma$ está definida como:\n",
    "\n",
    "f(x) = $\\frac{1}{\\sigma \\sqrt{2 \\pi}} e^{\\frac{-1}{2}(\\frac{x-\\mu}{\\sigma} )^2}$\n",
    "\n",
    "\n",
    "Comprueba numéricamente que el valor esperado de esta distribución es $\\mu$ y que su varianza es $\\sigma ^2$.\n",
    "\n",
    "Sugerencia:\n",
    "\n",
    "El valor esperado $E[x]$ de una variable x con distribución de probabilidad dada por $f(x)$ se define como:\n",
    "\n",
    "$E[x] = \\int x f(x) dx$\n",
    "\n",
    "Mientras que la varianza $V[x]$ se puede calcular como:\n",
    "$V[x] = E[x^2] - (E[x])^2 $"
   ]
  },
  {
   "cell_type": "code",
   "execution_count": 4,
   "metadata": {},
   "outputs": [
    {
     "name": "stdout",
     "output_type": "stream",
     "text": [
      "Introduzca el valor de mu: 5\n",
      "Introduzca el valor de sigma: 2\n",
      "Para mu =  5.0  el valor esperado de la distribución gaussiana es:  5.0\n",
      "Para sigma =  2.0  la varianza de la distribución gaussiana es:  4.0\n"
     ]
    }
   ],
   "source": [
    "# Se define la distribución gaussiana\n",
    "\n",
    "def gaussiana(x, mu, sigma):\n",
    "    return 1/(sigma * math.sqrt(2 * math.pi)) * math.exp(-1/2 * ((x - mu)/sigma)**2)\n",
    "\n",
    "# Se leen las variables mu y sigma a través del input\n",
    "mu = float(input('Introduzca el valor de mu: '))\n",
    "sigma = float(input('Introduzca el valor de sigma: '))\n",
    "\n",
    "\n",
    "# Valor esperado\n",
    "\n",
    "## Definiendo el argumento del valor esperado\n",
    "def arg_E (x):\n",
    "    return x * gaussiana(x, mu, sigma)\n",
    "\n",
    "## Calculando E(x)\n",
    "valor_esperado, error_E = integrate.quad(arg_E, -Infinity, Infinity)\n",
    "\n",
    "print('Para mu = ', mu, ' el valor esperado de la distribución gaussiana es: ', valor_esperado)\n",
    "\n",
    "\n",
    "# Varianza\n",
    "\n",
    "## Definiendo el argumento de la varianza\n",
    "def arg_E2 (x):\n",
    "    return x**2 * gaussiana(x, mu, sigma)\n",
    "\n",
    "valor_esperado_2, error_E_2 = integrate.quad(arg_E2, -Infinity, Infinity)\n",
    "\n",
    "# Calculando la varianza\n",
    "varianza = valor_esperado_2 - (valor_esperado)**2\n",
    "\n",
    "print('Para sigma = ', sigma, ' la varianza de la distribución gaussiana es: ', varianza)"
   ]
  }
 ],
 "metadata": {
  "colab": {
   "authorship_tag": "ABX9TyM0THrdeZmvdbxykZiy+OIM",
   "collapsed_sections": [],
   "name": "Untitled0.ipynb",
   "provenance": []
  },
  "kernelspec": {
   "display_name": "Python 3",
   "language": "python",
   "name": "python3"
  },
  "language_info": {
   "codemirror_mode": {
    "name": "ipython",
    "version": 3
   },
   "file_extension": ".py",
   "mimetype": "text/x-python",
   "name": "python",
   "nbconvert_exporter": "python",
   "pygments_lexer": "ipython3",
   "version": "3.8.5"
  }
 },
 "nbformat": 4,
 "nbformat_minor": 1
}
